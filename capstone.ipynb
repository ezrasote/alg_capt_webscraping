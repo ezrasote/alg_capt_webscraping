{
 "cells": [
  {
   "cell_type": "markdown",
   "metadata": {},
   "source": [
    "# Webscrapping using BeautifulSoup\n",
    "#### by : Ezra Soterion Nugroho\n",
    "\n",
    "## Introduction\n",
    "\n",
    "We will learn on how do simple web scrapping using beautiful soup. Web scrapping is one of a method that we can use to colleting the data from internet. At this particular module, we will try to scrap the Japan foreign exchange currency rates. To do this we will only use a couple default library from python and BeautifulSoup. \n",
    "\n",
    "In forex, Bid and Ask is the price at which we can buy and sell a currency pair. Normally, the numbers disagree a little with the actual price of the currency, but it becomes the prices at which the currency pair is actually traded. Bid and Ask relates to forex trading and it is important to understand in learning forex in theory and practice.\n",
    "\n",
    "## Dependencies\n",
    "\n",
    "Actually to follow this module you only need to install beautifulsoup4 with `pip install beautifulsoup4` and you are good to go. But here some libraries that needed to be installed first that I use in this module : \n",
    "\n",
    "- beautifulSoup4\n",
    "- pandas\n",
    "- matplotlibs\n",
    "\n",
    "## What is BeautifulSoup\n",
    "\n",
    "Beautiful Soup is a Python library for pulling data out of HTML and XML files. Beautiful Soup 3 only works on Python 2.x, but Beautiful Soup 4 also works on Python 3.x. Beautiful Soup 4 is faster, has more features, and works with third-party parsers\n",
    "like lxml and html5lib.\n",
    "\n",
    "Since beautifulsoup used to pull the data out of a HTML, so first we need to pull out the html first. How we do it? We will use default library `request`. \n",
    "\n",
    "So all this code is doing is sending a GET request to spesific address we give. This is the same type of request your browser sent to view this page, but the only difference is that Requests can't actually render the HTML, so instead you will just get the raw HTML and the other response information.\n",
    "\n",
    "We're using the .get() function here, but Requests allows you to use other functions like .post() and .put() to send those requests as well. At this case we will going to the Bank Indonesia inflation rate page, you can click [here](https://news.mifx.com/kurs-valuta-asing?kurs=JPY&searchdatefrom=01-01-2019&searchdateto=31-12-2019) to follow what exactly that link goes to. "
   ]
  },
  {
   "cell_type": "markdown",
   "metadata": {},
   "source": [
    "## Import Library"
   ]
  },
  {
   "cell_type": "code",
   "execution_count": 82,
   "metadata": {},
   "outputs": [],
   "source": [
    "import requests\n",
    "import matplotlib\n",
    "import numpy as np\n",
    "from matplotlib import style\n",
    "import pandas as pd"
   ]
  },
  {
   "cell_type": "markdown",
   "metadata": {},
   "source": [
    "## Data Aggregation"
   ]
  },
  {
   "cell_type": "code",
   "execution_count": null,
   "metadata": {},
   "outputs": [],
   "source": [
    "url_get = requests.get('https://monexnews.com/kurs-valuta-asing.htm?kurs=JPY&searchdatefrom=01-01-2019&searchdateto=01-12-2019')"
   ]
  },
  {
   "cell_type": "markdown",
   "metadata": {},
   "source": [
    "To visualize what exactly you get from the `request.get`, we can use .content to see what we exactly get, here i slice it so it won't make our screen full of the html we get from the page. You can delete the slicing if you want to see what we fully get."
   ]
  },
  {
   "cell_type": "code",
   "execution_count": 83,
   "metadata": {
    "scrolled": true
   },
   "outputs": [
    {
     "data": {
      "text/plain": [
       "b'!DOCTYPE html PUBLIC \"-//W3C//DTD XHTML 1.0 Transitional//EN\" \"http://www.w3.org/TR/xhtml1/DTD/xhtml1-transitional.dtd\">\\n<html xmlns=\"http://www.w3.org/1999/xhtml\">\\n<head>\\n<meta http-equiv=\"Content-Language\" content=\"en,in\" />\\n<link rel=\"alternate\" href=\"https://news.mifx.com/kurs-valuta-asing.php\" hreflang=\"en-ID\" />\\n<base href=\"https://news.mifx.com/\" target=\"_self\" />\\n<title>Kurs Dollar | USD | Nilai Tukar Dollar Hari Ini</title>\\n<meta property=\"og:title\" content=\"Kurs Dollar | USD | Nilai Tukar Dollar Hari Ini\" />\\n<meta name=\"description\" content=\"Nilai tukar rupiah terhadap dollar hari ini berdasarkan kurs tengah Bank Indonesia. \" />\\n<meta property=\"og:description\" content=\"Nilai tukar rupiah terhadap dollar hari ini berdasarkan kurs tengah Bank Indonesia. \" />'"
      ]
     },
     "execution_count": 83,
     "metadata": {},
     "output_type": "execute_result"
    }
   ],
   "source": [
    "url_get.content[1:777]"
   ]
  },
  {
   "cell_type": "markdown",
   "metadata": {},
   "source": [
    "As we can see we get a very unstructured and complex html, which actually contains the codes needed to show the webpages on your web browser. But we as human still confused what and where we can use that piece of code, so here where we use the beautifulsoup. Beautiful soup class will result a beautifulsoup object. Beautiful Soup transforms a complex HTML document into a complex tree of Python objects. But you’ll only ever have to deal with about four kinds of objects: `Tag`, `NavigableString`, `BeautifulSoup`, and `Comment`. But at this module we will only use `BeautifulSoup`."
   ]
  },
  {
   "cell_type": "code",
   "execution_count": 84,
   "metadata": {},
   "outputs": [
    {
     "name": "stdout",
     "output_type": "stream",
     "text": [
      "<class 'bs4.BeautifulSoup'>\n"
     ]
    }
   ],
   "source": [
    "from bs4 import BeautifulSoup \n",
    "\n",
    "soup = BeautifulSoup(url_get.content,\"html.parser\")\n",
    "print(type(soup))"
   ]
  },
  {
   "cell_type": "markdown",
   "metadata": {},
   "source": [
    "Let's see how our beautifulsoup looks like. "
   ]
  },
  {
   "cell_type": "code",
   "execution_count": 85,
   "metadata": {
    "scrolled": true
   },
   "outputs": [
    {
     "name": "stdout",
     "output_type": "stream",
     "text": [
      "<!DOCTYPE html PUBLIC \"-//W3C//DTD XHTML 1.0 Transitional//EN\" \"http://www.w3.org/TR/xhtml1/DTD/xhtml1-transitional.dtd\">\n",
      "<html xmlns=\"http://www.w3.org/1999/xhtml\">\n",
      " <head>\n",
      "  <meta content=\"en,in\" http-equiv=\"Content-Language\"/>\n",
      "  <link href=\"https://news.mifx.com/kurs-valuta-asing.php\" hreflang=\"en-ID\" rel=\"alternate\"/>\n",
      "  <base href=\"https://news.mifx.com/\" target=\"_self\"/>\n",
      "  <title>\n",
      "   Kurs Dollar | USD | Nilai Tukar Dollar Hari Ini\n",
      "  </title>\n",
      "  <meta content=\"Kurs Dollar | USD | Nilai Tukar Dollar Hari Ini\" property=\"og:title\"/>\n",
      "  <meta content=\"Nilai tukar rupiah terhadap dollar hari ini berdasarkan kurs tengah Bank Indonesia. \" name=\"description\"/>\n",
      "  <meta content=\"Nilai tukar rupiah terhadap dollar hari ini berdasarkan kurs tengah Bank Indonesia. \" property=\"og:description\"/>\n",
      "  <meta content=\"Broker Terbaik, Trading Forex, Trading Teregulasi, Trading Online, Monex, mifx,\" name=\"keywords\"/>\n",
      "  <meta content=\"favicon.jpg?v=1570462055\" property=\"og:image\"/>\n",
      "  <meta content=\"Ultimaengine.com\" name=\"author\"/>\n",
      "  <meta content=\"fo\n"
     ]
    }
   ],
   "source": [
    "print(soup.prettify()[:1045])"
   ]
  },
  {
   "cell_type": "markdown",
   "metadata": {},
   "source": [
    "As you can see, the content is the same with our `get_url` object but it's tidier. Also beautifulsoup give us method to make it even more prettier, for tidyness purpouse we slice to only see first 1045 character. "
   ]
  },
  {
   "cell_type": "markdown",
   "metadata": {},
   "source": [
    "Now we already have a tidier html, now we should search the lines that we want to use. Let's back to our web page first.\n",
    "\n",
    "<img src=\"asset/Capture.png\">\n",
    "\n",
    "The information that we need are the month and the inflation rate each month, which contain in the table. To know which part of the code refer to that table, we can just move our cusor there, right click, and inspect element. Then we will see something like this. \n",
    "\n",
    "<img src=\"asset/Capture_1.png\">\n",
    "\n",
    "From inspect element we know that we need to find the line table with class `table`. We can use the find method at our beautifusoup object. Let's also call our object to see what we get. "
   ]
  },
  {
   "cell_type": "code",
   "execution_count": 86,
   "metadata": {
    "scrolled": true
   },
   "outputs": [
    {
     "name": "stdout",
     "output_type": "stream",
     "text": [
      "table cellpadding=\"10\" cellspacing=\"0\" class=\"centerText newsTable2\" width=\"100%\">\n",
      " <tr class=\"colorWhite fontsize14 firstRow\">\n",
      "  <td>\n",
      "   TANGGAL\n",
      "  </td>\n",
      "  <td>\n",
      "   ASK\n",
      "  </td>\n",
      "  <td>\n",
      "   BID\n",
      "  </td>\n",
      " </tr>\n",
      " <tr class=\"verySoftGreyBg\">\n",
      "  <td>\n",
      "   29 November 2019\n",
      "  </td>\n",
      "  <td>\n",
      "   129,44\n",
      "  </td>\n",
      "  <td>\n",
      "   128,12\n",
      "  </td>\n",
      " </tr>\n",
      " <tr>\n",
      "  <td>\n",
      "   28 November 2019\n",
      "  </td>\n",
      "  <td>\n",
      "   129,47\n",
      "  </td>\n",
      "  <td>\n",
      "   128,15\n",
      "  </td>\n",
      " </tr>\n",
      " <tr class=\"verySoftGreyBg\">\n",
      "  <td>\n",
      "   27 November 2019\n",
      "  </td>\n",
      "  <td>\n",
      "   1\n"
     ]
    }
   ],
   "source": [
    "table = soup.find('table', attrs={'class':'centerText newsTable2'})\n",
    "print(table.prettify()[1:500])"
   ]
  },
  {
   "cell_type": "code",
   "execution_count": 87,
   "metadata": {},
   "outputs": [
    {
     "data": {
      "text/plain": [
       "[<tr class=\"colorWhite fontsize14 firstRow\">\n",
       " <td>TANGGAL</td>\n",
       " <td>ASK</td>\n",
       " <td>BID</td>\n",
       " </tr>,\n",
       " <tr class=\"verySoftGreyBg\">\n",
       " <td>29 November 2019</td>\n",
       " <td>129,44</td>\n",
       " <td>128,12</td>\n",
       " </tr>]"
      ]
     },
     "execution_count": 87,
     "metadata": {},
     "output_type": "execute_result"
    }
   ],
   "source": [
    "tr = table.find_all('tr')\n",
    "tr[:2] # just call 2 founded tr"
   ]
  },
  {
   "cell_type": "markdown",
   "metadata": {},
   "source": [
    "As we can see, we find a right lines with information we want. I'll explain a bit about the HTML codes you need to know : \n",
    "\n",
    "- `th` stand for table header/header cell\n",
    "- `tr` stand for table row\n",
    "- `td` stand for standard cell \n",
    "\n",
    "That's all term in HTML `table` that you need to know. Now we can pull it one by one, but we will use looping to make our job easier. But first let's make one object that will find all `tr` in `table` to help us in looping (so we can loop with the length of the table row)."
   ]
  },
  {
   "cell_type": "markdown",
   "metadata": {},
   "source": [
    "Here what the looping do to scrap the information: \n",
    "\n",
    "- First we need to establish a placeholder to receive the information that we scrap. \n",
    "- We named it `temp` and it's a tuple. \n",
    "- Then we will make a loop from one until the the length of the table row, \n",
    "- which we will find all cell of the column one and two which contain period and the inflation rate. \n",
    "- Then we will append it to our tuple that we prepared before, \n",
    "- every one iteration we will scrap one line of the table.  "
   ]
  },
  {
   "cell_type": "code",
   "execution_count": 88,
   "metadata": {},
   "outputs": [
    {
     "data": {
      "text/plain": [
       "[('29\\xa0November\\xa02019', '129,44', '128,12'),\n",
       " ('28\\xa0November\\xa02019', '129,47', '128,15'),\n",
       " ('27\\xa0November\\xa02019', '129,84', '128,53'),\n",
       " ('26\\xa0November\\xa02019', '129,82', '128,49'),\n",
       " ('25\\xa0November\\xa02019', '130,20', '128,89'),\n",
       " ('22\\xa0November\\xa02019', '130,44', '129,10'),\n",
       " ('21\\xa0November\\xa02019', '130,73', '129,39'),\n",
       " ('20\\xa0November\\xa02019', '130,56', '129,23'),\n",
       " ('19\\xa0November\\xa02019', '130,34', '129,03'),\n",
       " ('18\\xa0November\\xa02019', '130,02', '128,70'),\n",
       " ('15\\xa0November\\xa02019', '130,23', '128,90'),\n",
       " ('14\\xa0November\\xa02019', '130,34', '129,01'),\n",
       " ('13\\xa0November\\xa02019', '129,86', '128,53'),\n",
       " ('12\\xa0November\\xa02019', '129,45', '128,15'),\n",
       " ('11\\xa0November\\xa02019', '129,37', '128,07'),\n",
       " ('08\\xa0November\\xa02019', '129,03', '127,73'),\n",
       " ('07\\xa0November\\xa02019', '129,71', '128,41'),\n",
       " ('06\\xa0November\\xa02019', '128,96', '127,64'),\n",
       " ('05\\xa0November\\xa02019', '129,67', '128,34'),\n",
       " ('04\\xa0November\\xa02019', '130,04', '128,71'),\n",
       " ('01\\xa0November\\xa02019', '130,88', '129,54'),\n",
       " ('31\\xa0Oktober\\xa02019', '129,57', '128,25'),\n",
       " ('30\\xa0Oktober\\xa02019', '129,67', '128,34'),\n",
       " ('29\\xa0Oktober\\xa02019', '129,39', '128,09'),\n",
       " ('28\\xa0Oktober\\xa02019', '129,57', '128,27'),\n",
       " ('25\\xa0Oktober\\xa02019', '130,11', '128,78'),\n",
       " ('24\\xa0Oktober\\xa02019', '129,52', '128,22'),\n",
       " ('23\\xa0Oktober\\xa02019', '130,35', '129,05'),\n",
       " ('22\\xa0Oktober\\xa02019', '130,06', '128,73'),\n",
       " ('21\\xa0Oktober\\xa02019', '130,94', '129,60'),\n",
       " ('18\\xa0Oktober\\xa02019', '130,91', '129,60'),\n",
       " ('17\\xa0Oktober\\xa02019', '130,94', '129,61'),\n",
       " ('16\\xa0Oktober\\xa02019', '131,20', '129,89'),\n",
       " ('15\\xa0Oktober\\xa02019', '131,19', '129,87'),\n",
       " ('14\\xa0Oktober\\xa02019', '131,11', '129,77'),\n",
       " ('11\\xa0Oktober\\xa02019', '131,66', '130,31'),\n",
       " ('10\\xa0Oktober\\xa02019', '132,29', '130,94'),\n",
       " ('09\\xa0Oktober\\xa02019', '133,01', '131,64'),\n",
       " ('08\\xa0Oktober\\xa02019', '132,68', '131,32'),\n",
       " ('07\\xa0Oktober\\xa02019', '133,19', '131,83'),\n",
       " ('04\\xa0Oktober\\xa02019', '133,05', '131,71'),\n",
       " ('03\\xa0Oktober\\xa02019', '133,13', '131,80'),\n",
       " ('02\\xa0Oktober\\xa02019', '132,55', '131,19'),\n",
       " ('01\\xa0Oktober\\xa02019', '131,87', '130,52'),\n",
       " ('30\\xa0September\\xa02019', '132,03', '130,68'),\n",
       " ('27\\xa0September\\xa02019', '132,49', '131,14'),\n",
       " ('26\\xa0September\\xa02019', '132,20', '130,86'),\n",
       " ('25\\xa0September\\xa02019', '132,44', '131,07'),\n",
       " ('24\\xa0September\\xa02019', '131,73', '130,39'),\n",
       " ('23\\xa0September\\xa02019', '131,37', '130,03'),\n",
       " ('20\\xa0September\\xa02019', '131,14', '129,80'),\n",
       " ('19\\xa0September\\xa02019', '131,00', '129,69'),\n",
       " ('18\\xa0September\\xa02019', '130,75', '129,43'),\n",
       " ('17\\xa0September\\xa02019', '131,09', '129,75'),\n",
       " ('16\\xa0September\\xa02019', '130,78', '129,47'),\n",
       " ('13\\xa0September\\xa02019', '129,63', '128,30'),\n",
       " ('12\\xa0September\\xa02019', '130,75', '129,42'),\n",
       " ('11\\xa0September\\xa02019', '131,30', '129,96'),\n",
       " ('10\\xa0September\\xa02019', '131,34', '130,00'),\n",
       " ('09\\xa0September\\xa02019', '132,50', '131,16'),\n",
       " ('06\\xa0September\\xa02019', '132,73', '131,39'),\n",
       " ('05\\xa0September\\xa02019', '133,37', '132,00'),\n",
       " ('04\\xa0September\\xa02019', '134,85', '133,47'),\n",
       " ('03\\xa0September\\xa02019', '134,39', '133,01'),\n",
       " ('02\\xa0September\\xa02019', '134,30', '132,92'),\n",
       " ('30\\xa0Agustus\\xa02019', '134,33', '132,96'),\n",
       " ('29\\xa0Agustus\\xa02019', '135,32', '133,95'),\n",
       " ('28\\xa0Agustus\\xa02019', '135,51', '134,15'),\n",
       " ('27\\xa0Agustus\\xa02019', '135,32', '133,94'),\n",
       " ('26\\xa0Agustus\\xa02019', '136,20', '134,81'),\n",
       " ('23\\xa0Agustus\\xa02019', '134,45', '133,08'),\n",
       " ('22\\xa0Agustus\\xa02019', '134,38', '133,01'),\n",
       " ('21\\xa0Agustus\\xa02019', '134,63', '133,26'),\n",
       " ('20\\xa0Agustus\\xa02019', '134,48', '133,14'),\n",
       " ('19\\xa0Agustus\\xa02019', '134,29', '132,93'),\n",
       " ('16\\xa0Agustus\\xa02019', '134,86', '133,51'),\n",
       " ('15\\xa0Agustus\\xa02019', '135,65', '134,27'),\n",
       " ('14\\xa0Agustus\\xa02019', '134,60', '133,24'),\n",
       " ('13\\xa0Agustus\\xa02019', '136,19', '134,80'),\n",
       " ('12\\xa0Agustus\\xa02019', '135,50', '134,14'),\n",
       " ('09\\xa0Agustus\\xa02019', '134,60', '133,25'),\n",
       " ('08\\xa0Agustus\\xa02019', '134,67', '133,30'),\n",
       " ('07\\xa0Agustus\\xa02019', '135,34', '133,96'),\n",
       " ('06\\xa0Agustus\\xa02019', '135,85', '134,48'),\n",
       " ('05\\xa0Agustus\\xa02019', '134,95', '133,57'),\n",
       " ('02\\xa0Agustus\\xa02019', '133,31', '131,95'),\n",
       " ('01\\xa0Agustus\\xa02019', '129,80', '128,49'),\n",
       " ('31\\xa0Juli\\xa02019', '129,87', '128,54'),\n",
       " ('30\\xa0Juli\\xa02019', '129,68', '128,36'),\n",
       " ('29\\xa0Juli\\xa02019', '129,81', '128,48'),\n",
       " ('26\\xa0Juli\\xa02019', '129,56', '128,23'),\n",
       " ('25\\xa0Juli\\xa02019', '129,98', '128,65'),\n",
       " ('24\\xa0Juli\\xa02019', '130,15', '128,84'),\n",
       " ('23\\xa0Juli\\xa02019', '130,00', '128,67'),\n",
       " ('22\\xa0Juli\\xa02019', '129,98', '128,65'),\n",
       " ('19\\xa0Juli\\xa02019', '130,04', '128,72'),\n",
       " ('18\\xa0Juli\\xa02019', '130,45', '129,14'),\n",
       " ('17\\xa0Juli\\xa02019', '129,63', '128,30'),\n",
       " ('16\\xa0Juli\\xa02019', '129,62', '128,30'),\n",
       " ('15\\xa0Juli\\xa02019', '129,93', '128,60'),\n",
       " ('12\\xa0Juli\\xa02019', '130,67', '129,35'),\n",
       " ('11\\xa0Juli\\xa02019', '131,10', '129,77'),\n",
       " ('10\\xa0Juli\\xa02019', '130,61', '129,27'),\n",
       " ('09\\xa0Juli\\xa02019', '130,49', '129,15'),\n",
       " ('08\\xa0Juli\\xa02019', '131,13', '129,80'),\n",
       " ('05\\xa0Juli\\xa02019', '131,87', '130,54'),\n",
       " ('04\\xa0Juli\\xa02019', '131,60', '130,24'),\n",
       " ('03\\xa0Juli\\xa02019', '132,30', '130,94'),\n",
       " ('02\\xa0Juli\\xa02019', '131,09', '129,75'),\n",
       " ('01\\xa0Juli\\xa02019', '131,12', '129,77'),\n",
       " ('28\\xa0Juni\\xa02019', '132,07', '130,71'),\n",
       " ('27\\xa0Juni\\xa02019', '131,98', '130,63'),\n",
       " ('26\\xa0Juni\\xa02019', '132,56', '131,20'),\n",
       " ('25\\xa0Juni\\xa02019', '132,65', '131,28'),\n",
       " ('24\\xa0Juni\\xa02019', '132,61', '131,25'),\n",
       " ('21\\xa0Juni\\xa02019', '132,42', '131,05'),\n",
       " ('20\\xa0Juni\\xa02019', '132,78', '131,43'),\n",
       " ('19\\xa0Juni\\xa02019', '132,20', '130,85'),\n",
       " ('18\\xa0Juni\\xa02019', '133,01', '131,64'),\n",
       " ('17\\xa0Juni\\xa02019', '132,79', '131,42'),\n",
       " ('14\\xa0Juni\\xa02019', '132,73', '131,36'),\n",
       " ('13\\xa0Juni\\xa02019', '132,53', '131,18'),\n",
       " ('12\\xa0Juni\\xa02019', '131,88', '130,56'),\n",
       " ('11\\xa0Juni\\xa02019', '131,96', '130,64'),\n",
       " ('10\\xa0Juni\\xa02019', '131,84', '130,49'),\n",
       " ('31\\xa0Mei\\xa02019', '132,32', '130,96'),\n",
       " ('29\\xa0Mei\\xa02019', '132,48', '131,15'),\n",
       " ('28\\xa0Mei\\xa02019', '132,02', '130,69'),\n",
       " ('27\\xa0Mei\\xa02019', '131,86', '130,51'),\n",
       " ('24\\xa0Mei\\xa02019', '132,51', '131,16'),\n",
       " ('23\\xa0Mei\\xa02019', '132,34', '130,98'),\n",
       " ('22\\xa0Mei\\xa02019', '131,71', '130,37'),\n",
       " ('21\\xa0Mei\\xa02019', '131,94', '130,60'),\n",
       " ('20\\xa0Mei\\xa02019', '132,03', '130,69'),\n",
       " ('17\\xa0Mei\\xa02019', '132,30', '130,95'),\n",
       " ('16\\xa0Mei\\xa02019', '132,73', '131,40'),\n",
       " ('15\\xa0Mei\\xa02019', '132,51', '131,16'),\n",
       " ('14\\xa0Mei\\xa02019', '132,48', '131,16'),\n",
       " ('13\\xa0Mei\\xa02019', '131,54', '130,19'),\n",
       " ('10\\xa0Mei\\xa02019', '131,14', '129,80'),\n",
       " ('09\\xa0Mei\\xa02019', '131,14', '129,80'),\n",
       " ('08\\xa0Mei\\xa02019', '130,69', '129,34'),\n",
       " ('07\\xa0Mei\\xa02019', '129,91', '128,60'),\n",
       " ('06\\xa0Mei\\xa02019', '130,14', '128,80'),\n",
       " ('03\\xa0Mei\\xa02019', '128,83', '127,52'),\n",
       " ('02\\xa0Mei\\xa02019', '128,31', '127,01'),\n",
       " ('30\\xa0April\\xa02019', '128,02', '126,72'),\n",
       " ('29\\xa0April\\xa02019', '127,77', '126,49'),\n",
       " ('26\\xa0April\\xa02019', '127,70', '126,42'),\n",
       " ('25\\xa0April\\xa02019', '127,11', '125,82'),\n",
       " ('24\\xa0April\\xa02019', '126,78', '125,49'),\n",
       " ('23\\xa0April\\xa02019', '126,60', '125,31'),\n",
       " ('22\\xa0April\\xa02019', '126,20', '124,91'),\n",
       " ('18\\xa0April\\xa02019', '125,84', '124,55'),\n",
       " ('16\\xa0April\\xa02019', '126,30', '125,02'),\n",
       " ('15\\xa0April\\xa02019', '126,25', '124,96'),\n",
       " ('12\\xa0April\\xa02019', '127,35', '126,06'),\n",
       " ('11\\xa0April\\xa02019', '128,15', '126,83'),\n",
       " ('10\\xa0April\\xa02019', '128,00', '126,69'),\n",
       " ('09\\xa0April\\xa02019', '127,75', '126,46'),\n",
       " ('08\\xa0April\\xa02019', '127,60', '126,29'),\n",
       " ('05\\xa0April\\xa02019', '127,41', '126,11'),\n",
       " ('04\\xa0April\\xa02019', '127,92', '126,61'),\n",
       " ('02\\xa0April\\xa02019', '128,55', '127,24'),\n",
       " ('01\\xa0April\\xa02019', '128,68', '127,37'),\n",
       " ('29\\xa0Maret\\xa02019', '129,21', '127,92'),\n",
       " ('28\\xa0Maret\\xa02019', '130,04', '128,72'),\n",
       " ('27\\xa0Maret\\xa02019', '129,19', '127,88'),\n",
       " ('26\\xa0Maret\\xa02019', '129,38', '128,07'),\n",
       " ('25\\xa0Maret\\xa02019', '130,23', '128,90'),\n",
       " ('22\\xa0Maret\\xa02019', '128,50', '127,19'),\n",
       " ('21\\xa0Maret\\xa02019', '128,16', '126,84'),\n",
       " ('20\\xa0Maret\\xa02019', '128,14', '126,86'),\n",
       " ('19\\xa0Maret\\xa02019', '128,60', '127,30'),\n",
       " ('18\\xa0Maret\\xa02019', '128,26', '126,96'),\n",
       " ('15\\xa0Maret\\xa02019', '128,69', '127,36'),\n",
       " ('14\\xa0Maret\\xa02019', '128,55', '127,24'),\n",
       " ('13\\xa0Maret\\xa02019', '129,01', '127,70'),\n",
       " ('12\\xa0Maret\\xa02019', '128,56', '127,25'),\n",
       " ('11\\xa0Maret\\xa02019', '129,64', '128,33'),\n",
       " ('08\\xa0Maret\\xa02019', '128,19', '126,88'),\n",
       " ('06\\xa0Maret\\xa02019', '127,01', '125,73'),\n",
       " ('05\\xa0Maret\\xa02019', '127,10', '125,82'),\n",
       " ('04\\xa0Maret\\xa02019', '127,04', '125,74'),\n",
       " ('01\\xa0Maret\\xa02019', '126,99', '125,67'),\n",
       " ('28\\xa0Februari\\xa02019', '127,46', '126,19'),\n",
       " ('27\\xa0Februari\\xa02019', '127,29', '125,99'),\n",
       " ('26\\xa0Februari\\xa02019', '126,92', '125,61'),\n",
       " ('25\\xa0Februari\\xa02019', '127,16', '125,89'),\n",
       " ('22\\xa0Februari\\xa02019', '127,77', '126,47'),\n",
       " ('21\\xa0Februari\\xa02019', '127,57', '126,29'),\n",
       " ('20\\xa0Februari\\xa02019', '127,45', '126,15'),\n",
       " ('19\\xa0Februari\\xa02019', '128,42', '127,10'),\n",
       " ('18\\xa0Februari\\xa02019', '128,26', '126,97'),\n",
       " ('15\\xa0Februari\\xa02019', '128,61', '127,31'),\n",
       " ('14\\xa0Februari\\xa02019', '127,61', '126,33'),\n",
       " ('13\\xa0Februari\\xa02019', '127,47', '126,18'),\n",
       " ('12\\xa0Februari\\xa02019', '128,16', '126,88'),\n",
       " ('11\\xa0Februari\\xa02019', '128,07', '126,79'),\n",
       " ('08\\xa0Februari\\xa02019', '128,15', '126,85'),\n",
       " ('07\\xa0Februari\\xa02019', '127,92', '126,63'),\n",
       " ('06\\xa0Februari\\xa02019', '127,81', '126,52'),\n",
       " ('04\\xa0Februari\\xa02019', '128,24', '126,95'),\n",
       " ('01\\xa0Februari\\xa02019', '129,05', '127,75'),\n",
       " ('31\\xa0Januari\\xa02019', '129,92', '128,60'),\n",
       " ('30\\xa0Januari\\xa02019', '129,79', '128,47'),\n",
       " ('29\\xa0Januari\\xa02019', '129,74', '128,43'),\n",
       " ('28\\xa0Januari\\xa02019', '128,97', '127,65'),\n",
       " ('25\\xa0Januari\\xa02019', '129,68', '128,37'),\n",
       " ('24\\xa0Januari\\xa02019', '129,79', '128,48'),\n",
       " ('23\\xa0Januari\\xa02019', '130,05', '128,75'),\n",
       " ('22\\xa0Januari\\xa02019', '130,39', '129,07'),\n",
       " ('21\\xa0Januari\\xa02019', '130,31', '128,98'),\n",
       " ('18\\xa0Januari\\xa02019', '130,37', '129,03'),\n",
       " ('17\\xa0Januari\\xa02019', '130,61', '129,27'),\n",
       " ('16\\xa0Januari\\xa02019', '131,11', '129,75'),\n",
       " ('15\\xa0Januari\\xa02019', '130,56', '129,23'),\n",
       " ('14\\xa0Januari\\xa02019', '130,52', '129,19'),\n",
       " ('11\\xa0Januari\\xa02019', '130,62', '129,31'),\n",
       " ('10\\xa0Januari\\xa02019', '131,22', '129,88'),\n",
       " ('09\\xa0Januari\\xa02019', '130,31', '129,00'),\n",
       " ('08\\xa0Januari\\xa02019', '129,84', '128,52'),\n",
       " ('07\\xa0Januari\\xa02019', '130,86', '129,51'),\n",
       " ('04\\xa0Januari\\xa02019', '133,51', '132,17'),\n",
       " ('03\\xa0Januari\\xa02019', '135,44', '134,08'),\n",
       " ('02\\xa0Januari\\xa02019', '132,89', '131,54')]"
      ]
     },
     "execution_count": 88,
     "metadata": {},
     "output_type": "execute_result"
    }
   ],
   "source": [
    "temp = [] #initiating a tuple\n",
    "\n",
    "for i in range(1, len(tr)):\n",
    "    row = table.find_all('tr')[i]\n",
    "    \n",
    "    #get dates\n",
    "    date = row.find_all('td')[0].text\n",
    "    date = date.strip() #for removing the excess whitespace\n",
    "    \n",
    "    #get ask\n",
    "    ask = row.find_all('td')[1].text\n",
    "    ask = ask.strip() #for removing the excess whitespace\n",
    "    \n",
    "    #get bid\n",
    "    bid = row.find_all('td')[2].text\n",
    "    bid = bid.strip() #for removing the excess whitespace\n",
    "    \n",
    "    temp.append((date,ask,bid)) \n",
    "    \n",
    "temp "
   ]
  },
  {
   "cell_type": "markdown",
   "metadata": {},
   "source": [
    "That the result we get, At this point we can input it to a pandas' DataFrame and do usual data analysis, but if you notice the original webpage give us reversed information. To do a further analysis let's reverse our tuple we can use `::-1` to do that. "
   ]
  },
  {
   "cell_type": "code",
   "execution_count": 89,
   "metadata": {},
   "outputs": [
    {
     "data": {
      "text/plain": [
       "[('02\\xa0Januari\\xa02019', '132,89', '131,54'),\n",
       " ('03\\xa0Januari\\xa02019', '135,44', '134,08'),\n",
       " ('04\\xa0Januari\\xa02019', '133,51', '132,17'),\n",
       " ('07\\xa0Januari\\xa02019', '130,86', '129,51'),\n",
       " ('08\\xa0Januari\\xa02019', '129,84', '128,52'),\n",
       " ('09\\xa0Januari\\xa02019', '130,31', '129,00'),\n",
       " ('10\\xa0Januari\\xa02019', '131,22', '129,88'),\n",
       " ('11\\xa0Januari\\xa02019', '130,62', '129,31'),\n",
       " ('14\\xa0Januari\\xa02019', '130,52', '129,19'),\n",
       " ('15\\xa0Januari\\xa02019', '130,56', '129,23'),\n",
       " ('16\\xa0Januari\\xa02019', '131,11', '129,75'),\n",
       " ('17\\xa0Januari\\xa02019', '130,61', '129,27'),\n",
       " ('18\\xa0Januari\\xa02019', '130,37', '129,03'),\n",
       " ('21\\xa0Januari\\xa02019', '130,31', '128,98'),\n",
       " ('22\\xa0Januari\\xa02019', '130,39', '129,07'),\n",
       " ('23\\xa0Januari\\xa02019', '130,05', '128,75'),\n",
       " ('24\\xa0Januari\\xa02019', '129,79', '128,48'),\n",
       " ('25\\xa0Januari\\xa02019', '129,68', '128,37'),\n",
       " ('28\\xa0Januari\\xa02019', '128,97', '127,65'),\n",
       " ('29\\xa0Januari\\xa02019', '129,74', '128,43'),\n",
       " ('30\\xa0Januari\\xa02019', '129,79', '128,47'),\n",
       " ('31\\xa0Januari\\xa02019', '129,92', '128,60'),\n",
       " ('01\\xa0Februari\\xa02019', '129,05', '127,75'),\n",
       " ('04\\xa0Februari\\xa02019', '128,24', '126,95'),\n",
       " ('06\\xa0Februari\\xa02019', '127,81', '126,52'),\n",
       " ('07\\xa0Februari\\xa02019', '127,92', '126,63'),\n",
       " ('08\\xa0Februari\\xa02019', '128,15', '126,85'),\n",
       " ('11\\xa0Februari\\xa02019', '128,07', '126,79'),\n",
       " ('12\\xa0Februari\\xa02019', '128,16', '126,88'),\n",
       " ('13\\xa0Februari\\xa02019', '127,47', '126,18'),\n",
       " ('14\\xa0Februari\\xa02019', '127,61', '126,33'),\n",
       " ('15\\xa0Februari\\xa02019', '128,61', '127,31'),\n",
       " ('18\\xa0Februari\\xa02019', '128,26', '126,97'),\n",
       " ('19\\xa0Februari\\xa02019', '128,42', '127,10'),\n",
       " ('20\\xa0Februari\\xa02019', '127,45', '126,15'),\n",
       " ('21\\xa0Februari\\xa02019', '127,57', '126,29'),\n",
       " ('22\\xa0Februari\\xa02019', '127,77', '126,47'),\n",
       " ('25\\xa0Februari\\xa02019', '127,16', '125,89'),\n",
       " ('26\\xa0Februari\\xa02019', '126,92', '125,61'),\n",
       " ('27\\xa0Februari\\xa02019', '127,29', '125,99'),\n",
       " ('28\\xa0Februari\\xa02019', '127,46', '126,19'),\n",
       " ('01\\xa0Maret\\xa02019', '126,99', '125,67'),\n",
       " ('04\\xa0Maret\\xa02019', '127,04', '125,74'),\n",
       " ('05\\xa0Maret\\xa02019', '127,10', '125,82'),\n",
       " ('06\\xa0Maret\\xa02019', '127,01', '125,73'),\n",
       " ('08\\xa0Maret\\xa02019', '128,19', '126,88'),\n",
       " ('11\\xa0Maret\\xa02019', '129,64', '128,33'),\n",
       " ('12\\xa0Maret\\xa02019', '128,56', '127,25'),\n",
       " ('13\\xa0Maret\\xa02019', '129,01', '127,70'),\n",
       " ('14\\xa0Maret\\xa02019', '128,55', '127,24'),\n",
       " ('15\\xa0Maret\\xa02019', '128,69', '127,36'),\n",
       " ('18\\xa0Maret\\xa02019', '128,26', '126,96'),\n",
       " ('19\\xa0Maret\\xa02019', '128,60', '127,30'),\n",
       " ('20\\xa0Maret\\xa02019', '128,14', '126,86'),\n",
       " ('21\\xa0Maret\\xa02019', '128,16', '126,84'),\n",
       " ('22\\xa0Maret\\xa02019', '128,50', '127,19'),\n",
       " ('25\\xa0Maret\\xa02019', '130,23', '128,90'),\n",
       " ('26\\xa0Maret\\xa02019', '129,38', '128,07'),\n",
       " ('27\\xa0Maret\\xa02019', '129,19', '127,88'),\n",
       " ('28\\xa0Maret\\xa02019', '130,04', '128,72'),\n",
       " ('29\\xa0Maret\\xa02019', '129,21', '127,92'),\n",
       " ('01\\xa0April\\xa02019', '128,68', '127,37'),\n",
       " ('02\\xa0April\\xa02019', '128,55', '127,24'),\n",
       " ('04\\xa0April\\xa02019', '127,92', '126,61'),\n",
       " ('05\\xa0April\\xa02019', '127,41', '126,11'),\n",
       " ('08\\xa0April\\xa02019', '127,60', '126,29'),\n",
       " ('09\\xa0April\\xa02019', '127,75', '126,46'),\n",
       " ('10\\xa0April\\xa02019', '128,00', '126,69'),\n",
       " ('11\\xa0April\\xa02019', '128,15', '126,83'),\n",
       " ('12\\xa0April\\xa02019', '127,35', '126,06'),\n",
       " ('15\\xa0April\\xa02019', '126,25', '124,96'),\n",
       " ('16\\xa0April\\xa02019', '126,30', '125,02'),\n",
       " ('18\\xa0April\\xa02019', '125,84', '124,55'),\n",
       " ('22\\xa0April\\xa02019', '126,20', '124,91'),\n",
       " ('23\\xa0April\\xa02019', '126,60', '125,31'),\n",
       " ('24\\xa0April\\xa02019', '126,78', '125,49'),\n",
       " ('25\\xa0April\\xa02019', '127,11', '125,82'),\n",
       " ('26\\xa0April\\xa02019', '127,70', '126,42'),\n",
       " ('29\\xa0April\\xa02019', '127,77', '126,49'),\n",
       " ('30\\xa0April\\xa02019', '128,02', '126,72'),\n",
       " ('02\\xa0Mei\\xa02019', '128,31', '127,01'),\n",
       " ('03\\xa0Mei\\xa02019', '128,83', '127,52'),\n",
       " ('06\\xa0Mei\\xa02019', '130,14', '128,80'),\n",
       " ('07\\xa0Mei\\xa02019', '129,91', '128,60'),\n",
       " ('08\\xa0Mei\\xa02019', '130,69', '129,34'),\n",
       " ('09\\xa0Mei\\xa02019', '131,14', '129,80'),\n",
       " ('10\\xa0Mei\\xa02019', '131,14', '129,80'),\n",
       " ('13\\xa0Mei\\xa02019', '131,54', '130,19'),\n",
       " ('14\\xa0Mei\\xa02019', '132,48', '131,16'),\n",
       " ('15\\xa0Mei\\xa02019', '132,51', '131,16'),\n",
       " ('16\\xa0Mei\\xa02019', '132,73', '131,40'),\n",
       " ('17\\xa0Mei\\xa02019', '132,30', '130,95'),\n",
       " ('20\\xa0Mei\\xa02019', '132,03', '130,69'),\n",
       " ('21\\xa0Mei\\xa02019', '131,94', '130,60'),\n",
       " ('22\\xa0Mei\\xa02019', '131,71', '130,37'),\n",
       " ('23\\xa0Mei\\xa02019', '132,34', '130,98'),\n",
       " ('24\\xa0Mei\\xa02019', '132,51', '131,16'),\n",
       " ('27\\xa0Mei\\xa02019', '131,86', '130,51'),\n",
       " ('28\\xa0Mei\\xa02019', '132,02', '130,69'),\n",
       " ('29\\xa0Mei\\xa02019', '132,48', '131,15'),\n",
       " ('31\\xa0Mei\\xa02019', '132,32', '130,96'),\n",
       " ('10\\xa0Juni\\xa02019', '131,84', '130,49'),\n",
       " ('11\\xa0Juni\\xa02019', '131,96', '130,64'),\n",
       " ('12\\xa0Juni\\xa02019', '131,88', '130,56'),\n",
       " ('13\\xa0Juni\\xa02019', '132,53', '131,18'),\n",
       " ('14\\xa0Juni\\xa02019', '132,73', '131,36'),\n",
       " ('17\\xa0Juni\\xa02019', '132,79', '131,42'),\n",
       " ('18\\xa0Juni\\xa02019', '133,01', '131,64'),\n",
       " ('19\\xa0Juni\\xa02019', '132,20', '130,85'),\n",
       " ('20\\xa0Juni\\xa02019', '132,78', '131,43'),\n",
       " ('21\\xa0Juni\\xa02019', '132,42', '131,05'),\n",
       " ('24\\xa0Juni\\xa02019', '132,61', '131,25'),\n",
       " ('25\\xa0Juni\\xa02019', '132,65', '131,28'),\n",
       " ('26\\xa0Juni\\xa02019', '132,56', '131,20'),\n",
       " ('27\\xa0Juni\\xa02019', '131,98', '130,63'),\n",
       " ('28\\xa0Juni\\xa02019', '132,07', '130,71'),\n",
       " ('01\\xa0Juli\\xa02019', '131,12', '129,77'),\n",
       " ('02\\xa0Juli\\xa02019', '131,09', '129,75'),\n",
       " ('03\\xa0Juli\\xa02019', '132,30', '130,94'),\n",
       " ('04\\xa0Juli\\xa02019', '131,60', '130,24'),\n",
       " ('05\\xa0Juli\\xa02019', '131,87', '130,54'),\n",
       " ('08\\xa0Juli\\xa02019', '131,13', '129,80'),\n",
       " ('09\\xa0Juli\\xa02019', '130,49', '129,15'),\n",
       " ('10\\xa0Juli\\xa02019', '130,61', '129,27'),\n",
       " ('11\\xa0Juli\\xa02019', '131,10', '129,77'),\n",
       " ('12\\xa0Juli\\xa02019', '130,67', '129,35'),\n",
       " ('15\\xa0Juli\\xa02019', '129,93', '128,60'),\n",
       " ('16\\xa0Juli\\xa02019', '129,62', '128,30'),\n",
       " ('17\\xa0Juli\\xa02019', '129,63', '128,30'),\n",
       " ('18\\xa0Juli\\xa02019', '130,45', '129,14'),\n",
       " ('19\\xa0Juli\\xa02019', '130,04', '128,72'),\n",
       " ('22\\xa0Juli\\xa02019', '129,98', '128,65'),\n",
       " ('23\\xa0Juli\\xa02019', '130,00', '128,67'),\n",
       " ('24\\xa0Juli\\xa02019', '130,15', '128,84'),\n",
       " ('25\\xa0Juli\\xa02019', '129,98', '128,65'),\n",
       " ('26\\xa0Juli\\xa02019', '129,56', '128,23'),\n",
       " ('29\\xa0Juli\\xa02019', '129,81', '128,48'),\n",
       " ('30\\xa0Juli\\xa02019', '129,68', '128,36'),\n",
       " ('31\\xa0Juli\\xa02019', '129,87', '128,54'),\n",
       " ('01\\xa0Agustus\\xa02019', '129,80', '128,49'),\n",
       " ('02\\xa0Agustus\\xa02019', '133,31', '131,95'),\n",
       " ('05\\xa0Agustus\\xa02019', '134,95', '133,57'),\n",
       " ('06\\xa0Agustus\\xa02019', '135,85', '134,48'),\n",
       " ('07\\xa0Agustus\\xa02019', '135,34', '133,96'),\n",
       " ('08\\xa0Agustus\\xa02019', '134,67', '133,30'),\n",
       " ('09\\xa0Agustus\\xa02019', '134,60', '133,25'),\n",
       " ('12\\xa0Agustus\\xa02019', '135,50', '134,14'),\n",
       " ('13\\xa0Agustus\\xa02019', '136,19', '134,80'),\n",
       " ('14\\xa0Agustus\\xa02019', '134,60', '133,24'),\n",
       " ('15\\xa0Agustus\\xa02019', '135,65', '134,27'),\n",
       " ('16\\xa0Agustus\\xa02019', '134,86', '133,51'),\n",
       " ('19\\xa0Agustus\\xa02019', '134,29', '132,93'),\n",
       " ('20\\xa0Agustus\\xa02019', '134,48', '133,14'),\n",
       " ('21\\xa0Agustus\\xa02019', '134,63', '133,26'),\n",
       " ('22\\xa0Agustus\\xa02019', '134,38', '133,01'),\n",
       " ('23\\xa0Agustus\\xa02019', '134,45', '133,08'),\n",
       " ('26\\xa0Agustus\\xa02019', '136,20', '134,81'),\n",
       " ('27\\xa0Agustus\\xa02019', '135,32', '133,94'),\n",
       " ('28\\xa0Agustus\\xa02019', '135,51', '134,15'),\n",
       " ('29\\xa0Agustus\\xa02019', '135,32', '133,95'),\n",
       " ('30\\xa0Agustus\\xa02019', '134,33', '132,96'),\n",
       " ('02\\xa0September\\xa02019', '134,30', '132,92'),\n",
       " ('03\\xa0September\\xa02019', '134,39', '133,01'),\n",
       " ('04\\xa0September\\xa02019', '134,85', '133,47'),\n",
       " ('05\\xa0September\\xa02019', '133,37', '132,00'),\n",
       " ('06\\xa0September\\xa02019', '132,73', '131,39'),\n",
       " ('09\\xa0September\\xa02019', '132,50', '131,16'),\n",
       " ('10\\xa0September\\xa02019', '131,34', '130,00'),\n",
       " ('11\\xa0September\\xa02019', '131,30', '129,96'),\n",
       " ('12\\xa0September\\xa02019', '130,75', '129,42'),\n",
       " ('13\\xa0September\\xa02019', '129,63', '128,30'),\n",
       " ('16\\xa0September\\xa02019', '130,78', '129,47'),\n",
       " ('17\\xa0September\\xa02019', '131,09', '129,75'),\n",
       " ('18\\xa0September\\xa02019', '130,75', '129,43'),\n",
       " ('19\\xa0September\\xa02019', '131,00', '129,69'),\n",
       " ('20\\xa0September\\xa02019', '131,14', '129,80'),\n",
       " ('23\\xa0September\\xa02019', '131,37', '130,03'),\n",
       " ('24\\xa0September\\xa02019', '131,73', '130,39'),\n",
       " ('25\\xa0September\\xa02019', '132,44', '131,07'),\n",
       " ('26\\xa0September\\xa02019', '132,20', '130,86'),\n",
       " ('27\\xa0September\\xa02019', '132,49', '131,14'),\n",
       " ('30\\xa0September\\xa02019', '132,03', '130,68'),\n",
       " ('01\\xa0Oktober\\xa02019', '131,87', '130,52'),\n",
       " ('02\\xa0Oktober\\xa02019', '132,55', '131,19'),\n",
       " ('03\\xa0Oktober\\xa02019', '133,13', '131,80'),\n",
       " ('04\\xa0Oktober\\xa02019', '133,05', '131,71'),\n",
       " ('07\\xa0Oktober\\xa02019', '133,19', '131,83'),\n",
       " ('08\\xa0Oktober\\xa02019', '132,68', '131,32'),\n",
       " ('09\\xa0Oktober\\xa02019', '133,01', '131,64'),\n",
       " ('10\\xa0Oktober\\xa02019', '132,29', '130,94'),\n",
       " ('11\\xa0Oktober\\xa02019', '131,66', '130,31'),\n",
       " ('14\\xa0Oktober\\xa02019', '131,11', '129,77'),\n",
       " ('15\\xa0Oktober\\xa02019', '131,19', '129,87'),\n",
       " ('16\\xa0Oktober\\xa02019', '131,20', '129,89'),\n",
       " ('17\\xa0Oktober\\xa02019', '130,94', '129,61'),\n",
       " ('18\\xa0Oktober\\xa02019', '130,91', '129,60'),\n",
       " ('21\\xa0Oktober\\xa02019', '130,94', '129,60'),\n",
       " ('22\\xa0Oktober\\xa02019', '130,06', '128,73'),\n",
       " ('23\\xa0Oktober\\xa02019', '130,35', '129,05'),\n",
       " ('24\\xa0Oktober\\xa02019', '129,52', '128,22'),\n",
       " ('25\\xa0Oktober\\xa02019', '130,11', '128,78'),\n",
       " ('28\\xa0Oktober\\xa02019', '129,57', '128,27'),\n",
       " ('29\\xa0Oktober\\xa02019', '129,39', '128,09'),\n",
       " ('30\\xa0Oktober\\xa02019', '129,67', '128,34'),\n",
       " ('31\\xa0Oktober\\xa02019', '129,57', '128,25'),\n",
       " ('01\\xa0November\\xa02019', '130,88', '129,54'),\n",
       " ('04\\xa0November\\xa02019', '130,04', '128,71'),\n",
       " ('05\\xa0November\\xa02019', '129,67', '128,34'),\n",
       " ('06\\xa0November\\xa02019', '128,96', '127,64'),\n",
       " ('07\\xa0November\\xa02019', '129,71', '128,41'),\n",
       " ('08\\xa0November\\xa02019', '129,03', '127,73'),\n",
       " ('11\\xa0November\\xa02019', '129,37', '128,07'),\n",
       " ('12\\xa0November\\xa02019', '129,45', '128,15'),\n",
       " ('13\\xa0November\\xa02019', '129,86', '128,53'),\n",
       " ('14\\xa0November\\xa02019', '130,34', '129,01'),\n",
       " ('15\\xa0November\\xa02019', '130,23', '128,90'),\n",
       " ('18\\xa0November\\xa02019', '130,02', '128,70'),\n",
       " ('19\\xa0November\\xa02019', '130,34', '129,03'),\n",
       " ('20\\xa0November\\xa02019', '130,56', '129,23'),\n",
       " ('21\\xa0November\\xa02019', '130,73', '129,39'),\n",
       " ('22\\xa0November\\xa02019', '130,44', '129,10'),\n",
       " ('25\\xa0November\\xa02019', '130,20', '128,89'),\n",
       " ('26\\xa0November\\xa02019', '129,82', '128,49'),\n",
       " ('27\\xa0November\\xa02019', '129,84', '128,53'),\n",
       " ('28\\xa0November\\xa02019', '129,47', '128,15'),\n",
       " ('29\\xa0November\\xa02019', '129,44', '128,12')]"
      ]
     },
     "execution_count": 89,
     "metadata": {},
     "output_type": "execute_result"
    }
   ],
   "source": [
    "temp = temp[::-1]\n",
    "temp"
   ]
  },
  {
   "cell_type": "markdown",
   "metadata": {},
   "source": [
    "Then after we fix our tuple a bit, as usual we will input it to pandas' dataframe."
   ]
  },
  {
   "cell_type": "code",
   "execution_count": 90,
   "metadata": {
    "scrolled": true
   },
   "outputs": [
    {
     "data": {
      "text/html": [
       "<div>\n",
       "<style scoped>\n",
       "    .dataframe tbody tr th:only-of-type {\n",
       "        vertical-align: middle;\n",
       "    }\n",
       "\n",
       "    .dataframe tbody tr th {\n",
       "        vertical-align: top;\n",
       "    }\n",
       "\n",
       "    .dataframe thead th {\n",
       "        text-align: right;\n",
       "    }\n",
       "</style>\n",
       "<table border=\"1\" class=\"dataframe\">\n",
       "  <thead>\n",
       "    <tr style=\"text-align: right;\">\n",
       "      <th></th>\n",
       "      <th>date</th>\n",
       "      <th>bid</th>\n",
       "      <th>ask</th>\n",
       "    </tr>\n",
       "  </thead>\n",
       "  <tbody>\n",
       "    <tr>\n",
       "      <th>0</th>\n",
       "      <td>02 Januari 2019</td>\n",
       "      <td>132,89</td>\n",
       "      <td>131,54</td>\n",
       "    </tr>\n",
       "    <tr>\n",
       "      <th>1</th>\n",
       "      <td>03 Januari 2019</td>\n",
       "      <td>135,44</td>\n",
       "      <td>134,08</td>\n",
       "    </tr>\n",
       "    <tr>\n",
       "      <th>2</th>\n",
       "      <td>04 Januari 2019</td>\n",
       "      <td>133,51</td>\n",
       "      <td>132,17</td>\n",
       "    </tr>\n",
       "    <tr>\n",
       "      <th>3</th>\n",
       "      <td>07 Januari 2019</td>\n",
       "      <td>130,86</td>\n",
       "      <td>129,51</td>\n",
       "    </tr>\n",
       "    <tr>\n",
       "      <th>4</th>\n",
       "      <td>08 Januari 2019</td>\n",
       "      <td>129,84</td>\n",
       "      <td>128,52</td>\n",
       "    </tr>\n",
       "  </tbody>\n",
       "</table>\n",
       "</div>"
      ],
      "text/plain": [
       "              date     bid     ask\n",
       "0  02 Januari 2019  132,89  131,54\n",
       "1  03 Januari 2019  135,44  134,08\n",
       "2  04 Januari 2019  133,51  132,17\n",
       "3  07 Januari 2019  130,86  129,51\n",
       "4  08 Januari 2019  129,84  128,52"
      ]
     },
     "execution_count": 90,
     "metadata": {},
     "output_type": "execute_result"
    }
   ],
   "source": [
    "df = pd.DataFrame(temp, columns = ('date','bid', 'ask'))\n",
    "df.head()"
   ]
  },
  {
   "cell_type": "code",
   "execution_count": 116,
   "metadata": {},
   "outputs": [
    {
     "data": {
      "text/plain": [
       "date    datetime64[ns]\n",
       "bid            float64\n",
       "ask            float64\n",
       "dtype: object"
      ]
     },
     "execution_count": 116,
     "metadata": {},
     "output_type": "execute_result"
    }
   ],
   "source": [
    "df.dtypes"
   ]
  },
  {
   "cell_type": "markdown",
   "metadata": {},
   "source": [
    "After this just usual stuff, we can clean the data or save it to csv let's do a bit cleaning so we can do a bit of visualisation. We will change the column data type into the appropriate format, so that we can do simple visualisation using matplotlib."
   ]
  },
  {
   "cell_type": "code",
   "execution_count": 92,
   "metadata": {},
   "outputs": [],
   "source": [
    "import dateparser"
   ]
  },
  {
   "cell_type": "code",
   "execution_count": 93,
   "metadata": {
    "scrolled": true
   },
   "outputs": [],
   "source": [
    "## change date data types\n",
    "df['date'] = df['date'].apply(lambda x: dateparser.parse(x))"
   ]
  },
  {
   "cell_type": "code",
   "execution_count": 94,
   "metadata": {
    "scrolled": true
   },
   "outputs": [],
   "source": [
    "## converting 'ask' and 'bid' data types\n",
    "df['ask'] = df['ask'].replace(',', '.', regex = True)\n",
    "df['bid'] = df['bid'].replace(',', '.', regex = True)\n",
    "df[\"ask\"] = pd.to_numeric(df[\"ask\"], errors='coerce')\n",
    "df[\"bid\"] = pd.to_numeric(df[\"bid\"], errors='coerce')"
   ]
  },
  {
   "cell_type": "code",
   "execution_count": 95,
   "metadata": {
    "scrolled": true
   },
   "outputs": [
    {
     "data": {
      "text/plain": [
       "date    datetime64[ns]\n",
       "bid            float64\n",
       "ask            float64\n",
       "dtype: object"
      ]
     },
     "execution_count": 95,
     "metadata": {},
     "output_type": "execute_result"
    }
   ],
   "source": [
    "df.dtypes"
   ]
  },
  {
   "cell_type": "code",
   "execution_count": 103,
   "metadata": {},
   "outputs": [
    {
     "data": {
      "text/plain": [
       "<Figure size 1500x600 with 0 Axes>"
      ]
     },
     "metadata": {},
     "output_type": "display_data"
    }
   ],
   "source": [
    "fig = plt.figure(figsize=(5,2),dpi=300)"
   ]
  },
  {
   "cell_type": "code",
   "execution_count": 114,
   "metadata": {},
   "outputs": [
    {
     "data": {
      "text/plain": [
       "<matplotlib.axes._subplots.AxesSubplot at 0x2a639245f88>"
      ]
     },
     "execution_count": 114,
     "metadata": {},
     "output_type": "execute_result"
    },
    {
     "data": {
      "text/plain": [
       "<Figure size 1500x600 with 0 Axes>"
      ]
     },
     "metadata": {},
     "output_type": "display_data"
    },
    {
     "data": {
      "image/png": "[encoded data removed]",
      "text/plain": [
       "<Figure size 432x288 with 1 Axes>"
      ]
     },
     "metadata": {
      "needs_background": "light"
     },
     "output_type": "display_data"
    }
   ],
   "source": [
    "fig = plt.figure(figsize=(5,2),dpi=300)\n",
    "df.plot(x = 'date',y = ['bid', 'ask'])"
   ]
  },
  {
   "cell_type": "markdown",
   "metadata": {},
   "source": [
    "## Conclusion\n",
    "\n",
    "In order to scrap the website we need the BeautifulSoup library which will enable us to retrieve data from the html or xml format. After that we need to find the specific element that we want in the html, by finding the specific class from the html. Once we aggregate and clean the data we can input it into 'pandas' dataframe and the plot it as we want. \n",
    "\n",
    "In this project we have succesfully scrap the currency foreign exchange rate from this website [here](https://news.mifx.com/kurs-valuta-asing?kurs=JPY&searchdatefrom=01-01-2019&searchdateto=31-12-2019), and then create a plot based on the dates given. We can see that when we can always do the scrapping method when we don't have a direct access to a data from a website.\n",
    "\n",
    "Thankyou!"
   ]
  }
 ],
 "metadata": {
  "kernelspec": {
   "display_name": "algoritma",
   "language": "python",
   "name": "algoritma"
  },
  "language_info": {
   "codemirror_mode": {
    "name": "ipython",
    "version": 3
   },
   "file_extension": ".py",
   "mimetype": "text/x-python",
   "name": "python",
   "nbconvert_exporter": "python",
   "pygments_lexer": "ipython3",
   "version": "3.7.6"
  }
 },
 "nbformat": 4,
 "nbformat_minor": 2
}
