{
 "cells": [
  {
   "cell_type": "markdown",
   "metadata": {},
   "source": [
    "# Webscrapping using BeautifulSoup\n",
    "\n",
    "At this module we will learn on how do simple web scrapping using beautiful soup. Web scrapping is one of a method that we can use to colleting the data from internet. At this particular module, we will try to scrap Indonesian inflation rate from www.bi.go.id , it's a official Indonesian bank that provide a couple useful financial information. To do this we will only use a couple default library from python and BeautifulSoup. \n",
    "\n",
    "This module is made as easy and simple as possible which can be used for new developer to learn how to webscrapping using Beautiful Soup. But to do webscrapping you will need a bit of knowlage in `html` which I'll also try to help to explain what you needed at this module, but it is always better if you understand a bit what in `html` first. You can read it quickly at [beautifulsoup](https://www.crummy.com/software/BeautifulSoup/bs4/doc) documentation. It explain what is html and what beautiful soup exactly do at it landing page. \n",
    "\n",
    "## Dependencies\n",
    "\n",
    "Actually to follow this module you only need to install beautifulsoup4 with `pip install beautifulsoup4` and you are good to go. But here some libraries that needed to be installed first that I use at bis module : \n",
    "\n",
    "- beautifulSoup4\n",
    "- pandas\n",
    "- matplotlibs\n",
    "\n",
    "## What is BeautifulSoup\n",
    "\n",
    "Beautiful Soup is a Python library for pulling data out of HTML and XML files. Beautiful Soup 3 only works on Python 2.x, but Beautiful Soup 4 also works on Python 3.x. Beautiful Soup 4 is faster, has more features, and works with third-party parsers\n",
    "like lxml and html5lib.\n",
    "\n",
    "Since beautifulsoup used to pull the data out of a HTML, so first we need to pull out the html first. How we do it? We will use default library `request`. \n",
    "\n",
    "So all this code is doing is sending a GET request to spesific address we give. This is the same type of request your browser sent to view this page, but the only difference is that Requests can't actually render the HTML, so instead you will just get the raw HTML and the other response information.\n",
    "\n",
    "We're using the .get() function here, but Requests allows you to use other functions like .post() and .put() to send those requests as well. At this case we will going to the Bank Indonesia inflation rate page, you can click [here](https://www.bi.go.id/id/moneter/inflasi/data/Default.aspx) to follow what exactly that link goes to. "
   ]
  },
  {
   "cell_type": "code",
   "execution_count": 1,
   "metadata": {},
   "outputs": [],
   "source": [
    "import requests\n",
    "\n",
    "url_get = requests.get('https://www.bi.go.id/id/moneter/inflasi/data/Default.aspx')"
   ]
  },
  {
   "cell_type": "markdown",
   "metadata": {},
   "source": [
    "To visualize what exactly you get from the `request.get`, we can use .content so ee what we exactly get, in here i slice it so it won't make our screen full of the html we get from the page. You can delete the slicing if you want to see what we fully get."
   ]
  },
  {
   "cell_type": "code",
   "execution_count": 2,
   "metadata": {
    "scrolled": true
   },
   "outputs": [
    {
     "data": {
      "text/plain": [
       "b'\\n\\r\\n<!DOCTYPE html PUBLIC \"-//W3C//DTD XHTML 1.0 Strict//EN\" \"http://www.w3.org/TR/xhtml1/DTD/xhtml1-strict.dtd\">\\r\\n<html xmlns=\"http://www.w3.org/1999/xhtml\" __expr-val-dir=\"ltr\" lang=\"en-us\" dir=\"ltr\">\\r\\n<head>\\r\\n\\t<cfheader name=\"X-XSS-Protection\" value=\"0\" />\\r\\n\\t<meta name=\"viewport\" content=\"width=device-width, initial-scale=1.0\" /><meta http-equiv=\"Content-Type\" content=\"text/html; charset=utf-8\" /><meta http-equiv=\"Expires\" content=\"0\" /><meta http-equiv=\"X-UA-Compatible\" content=\"IE=9\" /><title>\\r\\n\\tData Inflasi\\r\\n - Bank Sentral Republik Indonesia\\r\\n</title><link rel=\"shortcut icon\" href=\"/_biweb/css/images/favicon.ico\" type=\"image/vnd.microsoft.icon\" /><link rel=\"stylesheet\" type=\"text/css\" href=\"/_layouts/1033/styles/Themable/search.css?rev=T%2Bhraxktc1A8EnaG5gGMHQ'"
      ]
     },
     "execution_count": 2,
     "metadata": {},
     "output_type": "execute_result"
    }
   ],
   "source": [
    "url_get.content[1:777]"
   ]
  },
  {
   "cell_type": "code",
   "execution_count": 12,
   "metadata": {},
   "outputs": [
    {
     "data": {
      "text/plain": [
       "b'<!DOCTYPE html PUBLIC \"-//W3C//DTD XHTML 1.0 Transitional//EN\" \"http://www.w3.org/TR/xhtml1/DTD/xhtml1-transitional.dtd\">\\n<html xmlns=\"http://www.w3.org/1999/xhtml\">\\n<head>\\n<meta http-equiv=\"Content-Language\" content=\"en,in\" />\\n<link rel=\"alternate\" href=\"https://monexnews.com/kurs-valuta-asing.php\" hreflang=\"en-ID\" />\\n<base href=\"https://monexnews.com/\" target=\"_self\" />\\n<title>Kurs Yen Jepang | JPY | Harga Nilai Tukar Yen Hari Ini | Monexnews</title>\\n<meta name=\"description\" content=\"Kurs yen jepang JPY, nilai tukar rupiah terhadap harga yen hari ini berdasar kurs tengah BI, Bank Indonesia. \" />\\n<meta name=\"keywords\" content=\"Kurs yen, jpy, nilai tukar yen, monexnews\" />\\n<meta property=\"og:image\" content=\"favicon.jpg\" />\\n<meta name=\"author\" content=\"Ultimaengine.com\" />\\n<meta name=\"robots\" content=\"follow, index\" />\\n<meta name=\"revisit-after\" content=\"7 days\" />\\n<meta name=\"viewport\" content=\"width=device-width, initial-scale=1.0\" />\\n<meta name=\"google-site-verification\" content=\"M7NOlgqcEadhlLSiEssmvNI08vl1BowAztIyERgEgMQ\" />\\n<link rel=\"stylesheet\" type=\"text/css\" href=\"ue-css/bootstrap.min.css?1\" media=\"all\" />\\n<link rel=\"stylesheet\" href=\"ue-css/ue-style.css?2\" type=\"text/css\" media=\"screen\" />\\n\\n<link rel=\"shortcut icon\" type=\"image/x-icon\" href=\"favicon.ico?1\" />\\n<script type=\"text/javascript\" src=\"ue-js/jquery.js\"></script>\\n\\n<script type=\"text/javascript\" src=\"ue-js/ue-jsgeneral.js?12\"></script>\\n\\n<link rel=\"stylesheet\" type=\"text/css\" href=\"style.css?21\" />\\n\\n<link href=\"https://fonts.googleapis.com/css?family=Roboto:400,500,700\" rel=\"stylesheet\">\\n\\n\\n<link rel=\"stylesheet\" type=\"text/css\" href=\"js/mmenu/jquery.mmenu.css\" />\\n<script type=\"text/javascript\" src=\"js/mmenu/jquery.mmenu.js\"></script>\\n\\n\\n<script type=\"text/javascript\" src=\"js/parallax/parallax.min.js\"></script>\\n\\n\\n<script type=\"text/javascript\" src=\"js/scroll-follow/simple-scroll-follow.min.js\"></script>\\n\\n\\n<script type=\"text/javascript\" src=\"ue-js/uepopup/jquery.magnific-popup.min.js\"></script>\\n<link rel=\"stylesheet\" href=\"ue-js/uepopup/magnific-popup.css\" />\\n\\n\\n<script type=\"text/javascript\" src=\"ue-js/datetimepicker/dateTimePicker.min.js\"></script>\\n<link rel=\"stylesheet\" href=\"ue-js/datetimepicker/dateTimePicker.min.css?2\" type=\"text/css\" />\\n\\n\\n</head><body>\\n\\n<nav id=\"menus\" class=\"hidemenu\">\\n<ul class=\"fontsize12 colorDarkGrey2 text-uppercase\" style=\"padding-left:10%;\">\\n<li><a href=\"index\" class=\"ue-fade pnovafont bold\">Home</a></li>\\n<li><a class=\"whiteBg pnovafont bold\" href=\"forex.htm\">FOREX</a></li>\\n<li><a class=\"whiteBg pnovafont bold\" href=\"news/gold-updates.htm\">Gold Updates</a></li>\\n<li><a class=\"whiteBg pnovafont bold\" href=\"commodity.htm\">Commodity</a></li>\\n<li><a class=\"whiteBg pnovafont bold\" href=\"world-economy.htm\">World Economy</a></li>\\n<li><a class=\"whiteBg pnovafont bold\" href=\"stock-index.htm\">stock index</a></li>\\n<li><a class=\"whiteBg pnovafont bold\" href=\"today-analysis.htm\">Today\\'s Analysis</a></li>\\n<li><a class=\"whiteBg pnovafont bold\" href=\"calendar/homeCalendar.htm\">Calendar</a></li>\\n<li><a class=\"whiteBg pnovafont bold\" href=\"glossary/index.htm\">Glossary</a></li>\\n<li><a class=\"whiteBg pnovafont bold\" href=\"harga-emas.htm\">Data</a></li>\\n<li><a class=\"whiteBg pnovafont bold\" href=\"quotes.htm\">Running Quotes</a></li>\\n<li><a class=\"whiteBg pnovafont bold colorGreen\" href=\"millennial-financial-success-stories.htm\">Millennial Financial Success Stories</a></li>\\n\\n\\n\\n\\n</ul>\\n</nav>\\n\\n<div class=\"smh\">\\n<div class=\"container-fluid pnovafont whiteBg no-padding borderGreyD border-top-0 border-right-0 border-left-0\" id=\"navigation\">\\n<div class=\"d-flex justify-content-between\">\\n\\n<div class=\"borderGreyD border-top-0 border-left-0 border-bottom-0 menuicon\">\\n<div class=\"d-flex justify-content-start\">\\n<a id=\"hamburger-icon\" href=\"#menus\" title=\"Menu\">\\n<div class=\"d-flex align-items-center menuiconheader\">\\n<img src=\"images/icon-mobile-menu.png\" class=\"d-block mx-auto\" />\\n</div>\\n</a>\\n</div>\\n</div>\\n<div class=\"d-none d-xl-block d-lg-block align-self-center\">\\n\\n<a href=\"index\"><img src=\"images/mifx-news-logo.png\" srcset=\"images/mifx-news-logo@2x.png 2x\" class=\"img-fluid d-block mx-auto\" /></a>\\n</div>\\n<div>\\n<div class=\"d-flex justify-content-end\">\\n<a href=\"javascript:void(0)\" class=\"searchPopUpButton\">\\n<div class=\"d-flex align-items-center greenBg menuiconheader\">\\n<img src=\"images/icon-search.png\" class=\"img-fluid d-block mx-auto\" />\\n</div>\\n</a>\\n<script type=\"text/javascript\">\\r\\n\\t\\t\\t\\t\\t\\t$(\\'.searchPopUpButton\\').click(function() {\\r\\n\\t\\t\\t\\t\\t\\t\\tsetTimeout(function() {\\r\\n\\t\\t\\t\\t\\t\\t\\t\\t$(\\'#searchBar\\').focus();\\r\\n\\t\\t\\t\\t\\t\\t\\t},100);\\r\\n\\t\\t\\t\\t\\t\\t});\\r\\n\\t\\t\\t\\t\\t</script>\\n</div>\\n</div>\\n\\n\\n</div>\\n</div>\\n</div>\\n<div class=\"container-fluid d-none d-md-block d-lg-none d-sm-block d-md-none d-block d-sm-none whiteBg\">\\n<div class=\"row\">\\n<div class=\"col-12\">\\n<div class=\"paddingtb15px\">\\n<a href=\"index\"><img src=\"images/mifx-news-logo.png\" srcset=\"images/mifx-news-logo@2x.png 2x\" class=\"img-fluid d-block mx-auto\" /></a>\\n</div>\\n</div>\\n</div>\\n</div>\\n<div>\\n<script type=\"text/javascript\">\\r\\n\\t$(\\'.closeMessageBtn\\').click(function() {\\r\\n\\t\\t$(this).closest(\\'.ueMessage\\').slideUp(\\'fast\\');\\r\\n\\t});\\r\\n</script></div>\\n<div class=\"uespacer20\"></div>\\n<div class=\"container\">\\n<div class=\"row\">\\n<div class=\"col-12\">\\n<div>\\n\\n<a href=\"https://mifx.com/open-live-account?Source=monexnews\" target=\"_blank\">\\n<img src=\"images/mini-banner-news.jpg\" class=\"img-fluid d-block mx-auto\" />\\n</a>\\n</div>\\n</div>\\n</div>\\n</div>\\n<div class=\"uespacer20\"></div>\\n<div class=\"container\" id=\"breadcrumb\">\\n<div class=\"row\">\\n<div class=\"col-12\">\\n<div class=\"uespacer10\">&nbsp;</div>\\n<div class=\"fontsize14 pnovafont\">\\n<span><a href=\"index\"><img src=\"images/iconHomeBreadcrumb.png\" class=\"align-top\" /></a></span><span class=\"align-middle\"> / </span><span class=\"colorGreen align-middle\">Kurs Valuta Asing</span>\\n</div>\\n<div class=\"uespacer10\">&nbsp;</div>\\n<div class=\"borderGreyD border-top-0 border-left-0 border-right-0\"></div>\\n</div>\\n</div>\\n</div>\\n<div class=\"uespacer30\">&nbsp;</div>\\n<div class=\"container\">\\n<div class=\"row small-gutter\">\\n<div class=\"col-lg-2 col-md-6 col-12\">\\n<a href=\"harga-emas.htm\" class=\"greenBtn  pnovafont bold text-uppercase\">\\nHarga Emas LM\\n</a>\\n</div>\\n<div class=\"col-12 uespacer10 d-none d-sm-block d-md-none d-block d-sm-none\"></div>\\n<div class=\"col-lg-3 col-md-6 col-12\">\\n<a href=\"javascript:void(0)\" class=\"greenBtn greenBtnSolid pnovafont bold text-uppercase\">\\nKurs Tengah BI\\n</a>\\n</div>\\n<div class=\"col-12 uespacer10 d-none d-lg-none d-md-block d-sm-none\"></div>\\n<div class=\"col-12 uespacer10 d-none d-sm-block d-md-none d-block d-sm-none\"></div>\\n<div class=\"col-lg-2 col-md-6 col-12\">\\n<a href=\"pivot-point.htm\" class=\"greenBtn  pnovafont bold text-uppercase\">\\nPivot Point\\n</a>\\n</div>\\n<div class=\"col-12 uespacer10 d-none d-sm-block d-md-none d-block d-sm-none\"></div>\\n<div class=\"col-lg-3 col-md-6 col-12\">\\n<a href=\"average-daily-range-yearly.htm\" class=\"greenBtn  pnovafont bold text-uppercase\">\\nAverage Daily Range Yearly\\n</a>\\n</div>\\n<div class=\"col-12 uespacer10 d-none d-lg-none d-md-block d-sm-none\"></div>\\n<div class=\"col-12 uespacer10 d-none d-sm-block d-md-none d-block d-sm-none\"></div>\\n<div class=\"col-lg-2 col-md-6 col-12\">\\n<a href=\"price-histories.htm\" class=\"greenBtn  pnovafont bold text-uppercase\">\\nPrice Histories\\n</a>\\n</div>\\n</div>\\n<div class=\"uespacer20\"></div>\\n<div class=\"row justify-content-end\">\\n<div class=\"col-lg-6\">\\n<div class=\"bold colorDarkGrey2\">Pilih Mata Uang :</div>\\n<div class=\"form-select colorGreen\">\\n<div class=\"ueMaterialSelectContainer\">\\n<select class=\"colorGreen bold\" id=\"category\" name=\"category\" onChange=\"window.location.href=this.value\">\\n<option value=\"kurs-valuta-asing.htm?kurs=USD\">\\nUSD </option>\\n<option value=\"kurs-valuta-asing.htm?kurs=AUD\">\\nAUD </option>\\n<option value=\"kurs-valuta-asing.htm?kurs=EUR\">\\nEUR </option>\\n<option value=\"kurs-valuta-asing.htm?kurs=GBP\">\\nGBP </option>\\n<option value=\"kurs-valuta-asing.htm?kurs=JPY\" selected=\"selected\">\\nJPY </option>\\n<option value=\"kurs-valuta-asing.htm?kurs=SGD\">\\nSGD  </option>\\n<option value=\"kurs-valuta-asing.htm?kurs=MYR\">\\nMYR </option>\\n<option value=\"kurs-valuta-asing.htm?kurs=HKD\">\\nHKD </option>\\n<option value=\"kurs-valuta-asing.htm?kurs=CHF\">\\nCHF </option>\\n<option value=\"kurs-valuta-asing.htm?kurs=CNY\">\\nCNY </option>\\n<option value=\"kurs-valuta-asing.htm?kurs=KRW\">\\nKRW </option>\\n</select>\\n</div>\\n</div>\\n</div>\\n<div class=\"uespacer10 col-12 d-none d-md-block d-lg-none d-sm-block d-md-none d-block d-sm-none\"></div>\\n<div class=\"col-lg-6\">\\n<form action=\"kurs-valuta-asing.htm\" class=\"ueFormCheck\" method=\"get\">\\n<div class=\"row\">\\n<div class=\"col-lg-4 col-12\">\\n<input type=\"hidden\" name=\"kurs\" value=\"JPY\" />\\n<div class=\"bold colorDarkGrey2\">\\nPencarian Dari Tanggal :\\n</div>\\n<div class=\"uespacer10\"></div>\\n<div class=\"defaultcssout\">\\n<div id=\"dtBoxsearchdatefrom\"></div>\\n<input type=\\'text\\' id=\\'searchdatefrom\\' name=\\'searchdatefrom\\' class=\\'ueInputText\\' placeholder=\\'Tanggal Pencarian\\' data-field=\\'date\\' readonly value=\\'01-01-2019\\' data-formcheck=\"~!nan\" data-formcheck-err=\"Tanggal Lahir Harus Diisi\" />\\n<script type=\\'text/javascript\\'>\\n\\t\\t\\t$(\\'#dtBoxsearchdatefrom\\').DateTimePicker({\\n\\t\\t\\t\\tbuttonsToDisplay: [\\'HeaderCloseButton\\',\\'SetButton\\'],\\n\\t\\t\\t\\ttitleContentDate: \\'\\',\\n\\t\\t\\t\\ttitleContentTime: \\'\\',\\n\\t\\t\\t\\ttitleContentDateTime: \\'\\',\\n\\t\\t\\t\\tanimationDuration: 200,\\n\\t\\t\\t\\tshortDayNames: [\\'\\',\\'\\',\\'\\',\\'\\',\\'\\',\\'\\',\\'\\']\\n\\t\\t\\t});\\n\\t\\t</script>\\n</div>\\n</div>\\n<div class=\"uespacer10 col-12 d-none d-md-block d-lg-none d-sm-block d-md-none d-block d-sm-none\"></div>\\n<div class=\"col-lg-4 col-12 align-self-end\">\\n<div class=\"bold colorDarkGrey2\">\\nSampai :\\n</div>\\n<div class=\"uespacer10\"></div>\\n<div class=\"defaultcssout\">\\n<input type=\\'text\\' id=\\'searchdateto\\' name=\\'searchdateto\\' class=\\'ueInputText\\' placeholder=\\'Tanggal Pencarian\\' data-field=\\'date\\' readonly value=\\'31-12-2019\\' data-formcheck=\"~!nan\" data-formcheck-err=\"Tanggal Lahir Harus Diisi\" />\\n<script type=\\'text/javascript\\'>\\n\\t\\t\\t$(\\'#dtBoxsearchdateto\\').DateTimePicker({\\n\\t\\t\\t\\tbuttonsToDisplay: [\\'HeaderCloseButton\\',\\'SetButton\\'],\\n\\t\\t\\t\\ttitleContentDate: \\'\\',\\n\\t\\t\\t\\ttitleContentTime: \\'\\',\\n\\t\\t\\t\\ttitleContentDateTime: \\'\\',\\n\\t\\t\\t\\tanimationDuration: 200,\\n\\t\\t\\t\\tshortDayNames: [\\'\\',\\'\\',\\'\\',\\'\\',\\'\\',\\'\\',\\'\\']\\n\\t\\t\\t});\\n\\t\\t</script>\\n</div>\\n</div>\\n<div class=\"uespacer10 col-12 d-none d-md-block d-lg-none d-sm-block d-md-none d-block d-sm-none\"></div>\\n<div class=\"col-lg-4 align-self-end\">\\n<div>\\n<input class=\"greenBtnSubmit bold pnovafont\" style=\"padding:9px;\" type=\"submit\" value=\"Tampilkan\" />\\n</div>\\n</div>\\n</div>\\n</form>\\n</div>\\n</div>\\n</div>\\n<div class=\"uespacer30\">&nbsp;</div>\\n<div class=\"container\">\\n<div class=\"row\">\\n<div class=\"col-12\">\\n<h1 class=\"bold fontsize16 text-center\">\\nKurs JPY / IDR (nilai tukar Yen terhadap Rupiah) </h1>\\n<div class=\"uespacer20\"></div>\\n<div class=\"table-responsive tablecustom greenBgNya\">\\n <table class=\"table\">\\n<tr>\\n<td>TANGGAL</td>\\n<td>ASK</td>\\n<td>BID</td>\\n</tr>\\n<tr class=\"verySoftGreyBg\">\\n<td>31&nbsp;Desember&nbsp;2019</td>\\n<td>128,62</td>\\n<td>127,32</td>\\n</tr>\\n<tr>\\n<td>30&nbsp;Desember&nbsp;2019</td>\\n<td>128,30</td>\\n<td>127,02</td>\\n</tr>\\n<tr class=\"verySoftGreyBg\">\\n<td>27&nbsp;Desember&nbsp;2019</td>\\n<td>128,11</td>\\n<td>126,83</td>\\n</tr>\\n<tr>\\n<td>26&nbsp;Desember&nbsp;2019</td>\\n<td>128,27</td>\\n<td>126,98</td>\\n</tr>\\n<tr class=\"verySoftGreyBg\">\\n<td>23&nbsp;Desember&nbsp;2019</td>\\n<td>128,39</td>\\n<td>127,10</td>\\n</tr>\\n<tr>\\n<td>20&nbsp;Desember&nbsp;2019</td>\\n<td>128,63</td>\\n<td>127,34</td>\\n</tr>\\n<tr class=\"verySoftGreyBg\">\\n<td>19&nbsp;Desember&nbsp;2019</td>\\n<td>128,24</td>\\n<td>126,93</td>\\n</tr>\\n<tr>\\n<td>18&nbsp;Desember&nbsp;2019</td>\\n<td>128,64</td>\\n<td>127,32</td>\\n</tr>\\n<tr class=\"verySoftGreyBg\">\\n<td>17&nbsp;Desember&nbsp;2019</td>\\n<td>128,62</td>\\n<td>127,33</td>\\n</tr>\\n<tr>\\n<td>16&nbsp;Desember&nbsp;2019</td>\\n<td>128,67</td>\\n<td>127,36</td>\\n</tr>\\n<tr class=\"verySoftGreyBg\">\\n<td>13&nbsp;Desember&nbsp;2019</td>\\n<td>128,30</td>\\n<td>127,02</td>\\n</tr>\\n<tr>\\n<td>12&nbsp;Desember&nbsp;2019</td>\\n<td>130,04</td>\\n<td>128,71</td>\\n</tr>\\n<tr class=\"verySoftGreyBg\">\\n<td>11&nbsp;Desember&nbsp;2019</td>\\n<td>129,65</td>\\n<td>128,34</td>\\n</tr>\\n<tr>\\n<td>10&nbsp;Desember&nbsp;2019</td>\\n<td>129,56</td>\\n<td>128,26</td>\\n</tr>\\n<tr class=\"verySoftGreyBg\">\\n<td>09&nbsp;Desember&nbsp;2019</td>\\n<td>129,76</td>\\n<td>128,44</td>\\n</tr>\\n<tr>\\n<td>06&nbsp;Desember&nbsp;2019</td>\\n<td>129,78</td>\\n<td>128,45</td>\\n</tr>\\n<tr class=\"verySoftGreyBg\">\\n<td>05&nbsp;Desember&nbsp;2019</td>\\n<td>130,10</td>\\n<td>128,77</td>\\n</tr>\\n <tr>\\n<td>04&nbsp;Desember&nbsp;2019</td>\\n<td>130,79</td>\\n<td>129,45</td>\\n</tr>\\n<tr class=\"verySoftGreyBg\">\\n<td>03&nbsp;Desember&nbsp;2019</td>\\n<td>130,15</td>\\n<td>128,82</td>\\n</tr>\\n<tr>\\n<td>02&nbsp;Desember&nbsp;2019</td>\\n<td>129,36</td>\\n<td>128,04</td>\\n</tr>\\n<tr class=\"verySoftGreyBg\">\\n<td>29&nbsp;November&nbsp;2019</td>\\n<td>129,44</td>\\n<td>128,12</td>\\n</tr>\\n<tr>\\n<td>28&nbsp;November&nbsp;2019</td>\\n<td>129,47</td>\\n<td>128,15</td>\\n</tr>\\n<tr class=\"verySoftGreyBg\">\\n<td>27&nbsp;November&nbsp;2019</td>\\n<td>129,84</td>\\n<td>128,53</td>\\n</tr>\\n<tr>\\n<td>26&nbsp;November&nbsp;2019</td>\\n<td>129,82</td>\\n<td>128,49</td>\\n</tr>\\n<tr class=\"verySoftGreyBg\">\\n<td>25&nbsp;November&nbsp;2019</td>\\n<td>130,20</td>\\n<td>128,89</td>\\n</tr>\\n<tr>\\n<td>22&nbsp;November&nbsp;2019</td>\\n<td>130,44</td>\\n<td>129,10</td>\\n</tr>\\n<tr class=\"verySoftGreyBg\">\\n<td>21&nbsp;November&nbsp;2019</td>\\n<td>130,73</td>\\n<td>129,39</td>\\n</tr>\\n<tr>\\n<td>20&nbsp;November&nbsp;2019</td>\\n<td>130,56</td>\\n<td>129,23</td>\\n</tr>\\n<tr class=\"verySoftGreyBg\">\\n<td>19&nbsp;November&nbsp;2019</td>\\n<td>130,34</td>\\n<td>129,03</td>\\n</tr>\\n<tr>\\n<td>18&nbsp;November&nbsp;2019</td>\\n<td>130,02</td>\\n<td>128,70</td>\\n</tr>\\n<tr class=\"verySoftGreyBg\">\\n<td>15&nbsp;November&nbsp;2019</td>\\n<td>130,23</td>\\n<td>128,90</td>\\n</tr>\\n<tr>\\n<td>14&nbsp;November&nbsp;2019</td>\\n<td>130,34</td>\\n<td>129,01</td>\\n</tr>\\n<tr class=\"verySoftGreyBg\">\\n<td>13&nbsp;November&nbsp;2019</td>\\n<td>129,86</td>\\n<td>128,53</td>\\n</tr>\\n<tr>\\n<td>12&nbsp;November&nbsp;2019</td>\\n<td>129,45</td>\\n<td>128,15</td>\\n</tr>\\n<tr class=\"verySoftGreyBg\">\\n<td>11&nbsp;November&nbsp;2019</td>\\n<td>129,37</td>\\n<td>128,07</td>\\n</tr>\\n <tr>\\n<td>08&nbsp;November&nbsp;2019</td>\\n<td>129,03</td>\\n<td>127,73</td>\\n</tr>\\n<tr class=\"verySoftGreyBg\">\\n<td>07&nbsp;November&nbsp;2019</td>\\n<td>129,71</td>\\n<td>128,41</td>\\n</tr>\\n<tr>\\n<td>06&nbsp;November&nbsp;2019</td>\\n<td>128,96</td>\\n<td>127,64</td>\\n</tr>\\n<tr class=\"verySoftGreyBg\">\\n<td>05&nbsp;November&nbsp;2019</td>\\n<td>129,67</td>\\n<td>128,34</td>\\n</tr>\\n<tr>\\n<td>04&nbsp;November&nbsp;2019</td>\\n<td>130,04</td>\\n<td>128,71</td>\\n</tr>\\n<tr class=\"verySoftGreyBg\">\\n<td>01&nbsp;November&nbsp;2019</td>\\n<td>130,88</td>\\n<td>129,54</td>\\n</tr>\\n<tr>\\n<td>31&nbsp;Oktober&nbsp;2019</td>\\n<td>129,57</td>\\n<td>128,25</td>\\n</tr>\\n<tr class=\"verySoftGreyBg\">\\n<td>30&nbsp;Oktober&nbsp;2019</td>\\n<td>129,67</td>\\n<td>128,34</td>\\n</tr>\\n<tr>\\n<td>29&nbsp;Oktober&nbsp;2019</td>\\n<td>129,39</td>\\n<td>128,09</td>\\n</tr>\\n<tr class=\"verySoftGreyBg\">\\n<td>28&nbsp;Oktober&nbsp;2019</td>\\n<td>129,57</td>\\n<td>128,27</td>\\n</tr>\\n<tr>\\n<td>25&nbsp;Oktober&nbsp;2019</td>\\n<td>130,11</td>\\n<td>128,78</td>\\n</tr>\\n<tr class=\"verySoftGreyBg\">\\n<td>24&nbsp;Oktober&nbsp;2019</td>\\n<td>129,52</td>\\n<td>128,22</td>\\n</tr>\\n<tr>\\n<td>23&nbsp;Oktober&nbsp;2019</td>\\n<td>130,35</td>\\n<td>129,05</td>\\n</tr>\\n<tr class=\"verySoftGreyBg\">\\n<td>22&nbsp;Oktober&nbsp;2019</td>\\n<td>130,06</td>\\n<td>128,73</td>\\n</tr>\\n<tr>\\n<td>21&nbsp;Oktober&nbsp;2019</td>\\n<td>130,94</td>\\n<td>129,60</td>\\n</tr>\\n<tr class=\"verySoftGreyBg\">\\n<td>18&nbsp;Oktober&nbsp;2019</td>\\n<td>130,91</td>\\n<td>129,60</td>\\n</tr>\\n<tr>\\n<td>17&nbsp;Oktober&nbsp;2019</td>\\n<td>130,94</td>\\n<td>129,61</td>\\n</tr>\\n<tr class=\"verySoftGreyBg\">\\n<td>16&nbsp;Oktober&nbsp;2019</td>\\n<td>131,20</td>\\n<td>129,89</td>\\n</tr>\\n <tr>\\n<td>15&nbsp;Oktober&nbsp;2019</td>\\n<td>131,19</td>\\n<td>129,87</td>\\n</tr>\\n<tr class=\"verySoftGreyBg\">\\n<td>14&nbsp;Oktober&nbsp;2019</td>\\n<td>131,11</td>\\n<td>129,77</td>\\n</tr>\\n<tr>\\n<td>11&nbsp;Oktober&nbsp;2019</td>\\n<td>131,66</td>\\n<td>130,31</td>\\n</tr>\\n<tr class=\"verySoftGreyBg\">\\n<td>10&nbsp;Oktober&nbsp;2019</td>\\n<td>132,29</td>\\n<td>130,94</td>\\n</tr>\\n<tr>\\n<td>09&nbsp;Oktober&nbsp;2019</td>\\n<td>133,01</td>\\n<td>131,64</td>\\n</tr>\\n<tr class=\"verySoftGreyBg\">\\n<td>08&nbsp;Oktober&nbsp;2019</td>\\n<td>132,68</td>\\n<td>131,32</td>\\n</tr>\\n<tr>\\n<td>07&nbsp;Oktober&nbsp;2019</td>\\n<td>133,19</td>\\n<td>131,83</td>\\n</tr>\\n<tr class=\"verySoftGreyBg\">\\n<td>04&nbsp;Oktober&nbsp;2019</td>\\n<td>133,05</td>\\n<td>131,71</td>\\n</tr>\\n<tr>\\n<td>03&nbsp;Oktober&nbsp;2019</td>\\n<td>133,13</td>\\n<td>131,80</td>\\n</tr>\\n<tr class=\"verySoftGreyBg\">\\n<td>02&nbsp;Oktober&nbsp;2019</td>\\n<td>132,55</td>\\n<td>131,19</td>\\n</tr>\\n<tr>\\n<td>01&nbsp;Oktober&nbsp;2019</td>\\n<td>131,87</td>\\n<td>130,52</td>\\n</tr>\\n<tr class=\"verySoftGreyBg\">\\n<td>30&nbsp;September&nbsp;2019</td>\\n<td>132,03</td>\\n<td>130,68</td>\\n</tr>\\n<tr>\\n<td>27&nbsp;September&nbsp;2019</td>\\n<td>132,49</td>\\n<td>131,14</td>\\n</tr>\\n<tr class=\"verySoftGreyBg\">\\n<td>26&nbsp;September&nbsp;2019</td>\\n<td>132,20</td>\\n<td>130,86</td>\\n</tr>\\n<tr>\\n<td>25&nbsp;September&nbsp;2019</td>\\n<td>132,44</td>\\n<td>131,07</td>\\n</tr>\\n<tr class=\"verySoftGreyBg\">\\n<td>24&nbsp;September&nbsp;2019</td>\\n<td>131,73</td>\\n<td>130,39</td>\\n</tr>\\n<tr>\\n<td>23&nbsp;September&nbsp;2019</td>\\n<td>131,37</td>\\n<td>130,03</td>\\n</tr>\\n<tr class=\"verySoftGreyBg\">\\n<td>20&nbsp;September&nbsp;2019</td>\\n<td>131,14</td>\\n<td>129,80</td>\\n</tr>\\n <tr>\\n<td>19&nbsp;September&nbsp;2019</td>\\n<td>131,00</td>\\n<td>129,69</td>\\n</tr>\\n<tr class=\"verySoftGreyBg\">\\n<td>18&nbsp;September&nbsp;2019</td>\\n<td>130,75</td>\\n<td>129,43</td>\\n</tr>\\n<tr>\\n<td>17&nbsp;September&nbsp;2019</td>\\n<td>131,09</td>\\n<td>129,75</td>\\n</tr>\\n<tr class=\"verySoftGreyBg\">\\n<td>16&nbsp;September&nbsp;2019</td>\\n<td>130,78</td>\\n<td>129,47</td>\\n</tr>\\n<tr>\\n<td>13&nbsp;September&nbsp;2019</td>\\n<td>129,63</td>\\n<td>128,30</td>\\n</tr>\\n<tr class=\"verySoftGreyBg\">\\n<td>12&nbsp;September&nbsp;2019</td>\\n<td>130,75</td>\\n<td>129,42</td>\\n</tr>\\n<tr>\\n<td>11&nbsp;September&nbsp;2019</td>\\n<td>131,30</td>\\n<td>129,96</td>\\n</tr>\\n<tr class=\"verySoftGreyBg\">\\n<td>10&nbsp;September&nbsp;2019</td>\\n<td>131,34</td>\\n<td>130,00</td>\\n</tr>\\n<tr>\\n<td>09&nbsp;September&nbsp;2019</td>\\n<td>132,50</td>\\n<td>131,16</td>\\n</tr>\\n<tr class=\"verySoftGreyBg\">\\n<td>06&nbsp;September&nbsp;2019</td>\\n<td>132,73</td>\\n<td>131,39</td>\\n</tr>\\n<tr>\\n<td>05&nbsp;September&nbsp;2019</td>\\n<td>133,37</td>\\n<td>132,00</td>\\n</tr>\\n<tr class=\"verySoftGreyBg\">\\n<td>04&nbsp;September&nbsp;2019</td>\\n<td>134,85</td>\\n<td>133,47</td>\\n</tr>\\n<tr>\\n<td>03&nbsp;September&nbsp;2019</td>\\n<td>134,39</td>\\n<td>133,01</td>\\n</tr>\\n<tr class=\"verySoftGreyBg\">\\n<td>02&nbsp;September&nbsp;2019</td>\\n<td>134,30</td>\\n<td>132,92</td>\\n</tr>\\n<tr>\\n<td>30&nbsp;Agustus&nbsp;2019</td>\\n<td>134,33</td>\\n<td>132,96</td>\\n</tr>\\n<tr class=\"verySoftGreyBg\">\\n<td>29&nbsp;Agustus&nbsp;2019</td>\\n<td>135,32</td>\\n<td>133,95</td>\\n</tr>\\n<tr>\\n<td>28&nbsp;Agustus&nbsp;2019</td>\\n<td>135,51</td>\\n<td>134,15</td>\\n</tr>\\n<tr class=\"verySoftGreyBg\">\\n<td>27&nbsp;Agustus&nbsp;2019</td>\\n<td>135,32</td>\\n<td>133,94</td>\\n </tr>\\n<tr>\\n<td>26&nbsp;Agustus&nbsp;2019</td>\\n<td>136,20</td>\\n<td>134,81</td>\\n</tr>\\n<tr class=\"verySoftGreyBg\">\\n<td>23&nbsp;Agustus&nbsp;2019</td>\\n<td>134,45</td>\\n<td>133,08</td>\\n</tr>\\n<tr>\\n<td>22&nbsp;Agustus&nbsp;2019</td>\\n<td>134,38</td>\\n<td>133,01</td>\\n</tr>\\n<tr class=\"verySoftGreyBg\">\\n<td>21&nbsp;Agustus&nbsp;2019</td>\\n<td>134,63</td>\\n<td>133,26</td>\\n</tr>\\n<tr>\\n<td>20&nbsp;Agustus&nbsp;2019</td>\\n<td>134,48</td>\\n<td>133,14</td>\\n</tr>\\n<tr class=\"verySoftGreyBg\">\\n<td>19&nbsp;Agustus&nbsp;2019</td>\\n<td>134,29</td>\\n<td>132,93</td>\\n</tr>\\n<tr>\\n<td>16&nbsp;Agustus&nbsp;2019</td>\\n<td>134,86</td>\\n<td>133,51</td>\\n</tr>\\n<tr class=\"verySoftGreyBg\">\\n<td>15&nbsp;Agustus&nbsp;2019</td>\\n<td>135,65</td>\\n<td>134,27</td>\\n</tr>\\n<tr>\\n<td>14&nbsp;Agustus&nbsp;2019</td>\\n<td>134,60</td>\\n<td>133,24</td>\\n</tr>\\n<tr class=\"verySoftGreyBg\">\\n<td>13&nbsp;Agustus&nbsp;2019</td>\\n<td>136,19</td>\\n<td>134,80</td>\\n</tr>\\n<tr>\\n<td>12&nbsp;Agustus&nbsp;2019</td>\\n<td>135,50</td>\\n<td>134,14</td>\\n</tr>\\n<tr class=\"verySoftGreyBg\">\\n<td>09&nbsp;Agustus&nbsp;2019</td>\\n<td>134,60</td>\\n<td>133,25</td>\\n</tr>\\n<tr>\\n<td>08&nbsp;Agustus&nbsp;2019</td>\\n<td>134,67</td>\\n<td>133,30</td>\\n</tr>\\n<tr class=\"verySoftGreyBg\">\\n<td>07&nbsp;Agustus&nbsp;2019</td>\\n<td>135,34</td>\\n<td>133,96</td>\\n</tr>\\n<tr>\\n<td>06&nbsp;Agustus&nbsp;2019</td>\\n<td>135,85</td>\\n<td>134,48</td>\\n</tr>\\n<tr class=\"verySoftGreyBg\">\\n<td>05&nbsp;Agustus&nbsp;2019</td>\\n<td>134,95</td>\\n<td>133,57</td>\\n</tr>\\n<tr>\\n<td>02&nbsp;Agustus&nbsp;2019</td>\\n<td>133,31</td>\\n<td>131,95</td>\\n</tr>\\n<tr class=\"verySoftGreyBg\">\\n<td>01&nbsp;Agustus&nbsp;2019</td>\\n<td>129,80</td>\\n<td>128,49</td>\\n</tr>\\n<tr>\\n<td>31&nbsp;Juli&nbsp;2019</td>\\n<td>129,87</td>\\n<td>128,54</td>\\n</tr>\\n<tr class=\"verySoftGreyBg\">\\n<td>30&nbsp;Juli&nbsp;2019</td>\\n<td>129,68</td>\\n<td>128,36</td>\\n</tr>\\n<tr>\\n<td>29&nbsp;Juli&nbsp;2019</td>\\n<td>129,81</td>\\n<td>128,48</td>\\n</tr>\\n<tr class=\"verySoftGreyBg\">\\n<td>26&nbsp;Juli&nbsp;2019</td>\\n<td>129,56</td>\\n<td>128,23</td>\\n</tr>\\n<tr>\\n<td>25&nbsp;Juli&nbsp;2019</td>\\n<td>129,98</td>\\n<td>128,65</td>\\n</tr>\\n<tr class=\"verySoftGreyBg\">\\n<td>24&nbsp;Juli&nbsp;2019</td>\\n<td>130,15</td>\\n<td>128,84</td>\\n</tr>\\n<tr>\\n<td>23&nbsp;Juli&nbsp;2019</td>\\n<td>130,00</td>\\n<td>128,67</td>\\n</tr>\\n<tr class=\"verySoftGreyBg\">\\n<td>22&nbsp;Juli&nbsp;2019</td>\\n<td>129,98</td>\\n<td>128,65</td>\\n</tr>\\n<tr>\\n<td>19&nbsp;Juli&nbsp;2019</td>\\n<td>130,04</td>\\n<td>128,72</td>\\n</tr>\\n<tr class=\"verySoftGreyBg\">\\n<td>18&nbsp;Juli&nbsp;2019</td>\\n<td>130,45</td>\\n<td>129,14</td>\\n</tr>\\n<tr>\\n<td>17&nbsp;Juli&nbsp;2019</td>\\n<td>129,63</td>\\n<td>128,30</td>\\n</tr>\\n<tr class=\"verySoftGreyBg\">\\n<td>16&nbsp;Juli&nbsp;2019</td>\\n<td>129,62</td>\\n<td>128,30</td>\\n</tr>\\n<tr>\\n<td>15&nbsp;Juli&nbsp;2019</td>\\n<td>129,93</td>\\n<td>128,60</td>\\n</tr>\\n<tr class=\"verySoftGreyBg\">\\n<td>12&nbsp;Juli&nbsp;2019</td>\\n<td>130,67</td>\\n<td>129,35</td>\\n</tr>\\n<tr>\\n<td>11&nbsp;Juli&nbsp;2019</td>\\n<td>131,10</td>\\n<td>129,77</td>\\n</tr>\\n<tr class=\"verySoftGreyBg\">\\n<td>10&nbsp;Juli&nbsp;2019</td>\\n<td>130,61</td>\\n<td>129,27</td>\\n</tr>\\n<tr>\\n<td>09&nbsp;Juli&nbsp;2019</td>\\n<td>130,49</td>\\n<td>129,15</td>\\n</tr>\\n<tr class=\"verySoftGreyBg\">\\n<td>08&nbsp;Juli&nbsp;2019</td>\\n<td>131,13</td>\\n<td>129,80</td>\\n</tr>\\n<tr>\\n <td>05&nbsp;Juli&nbsp;2019</td>\\n<td>131,87</td>\\n<td>130,54</td>\\n</tr>\\n<tr class=\"verySoftGreyBg\">\\n<td>04&nbsp;Juli&nbsp;2019</td>\\n<td>131,60</td>\\n<td>130,24</td>\\n</tr>\\n<tr>\\n<td>03&nbsp;Juli&nbsp;2019</td>\\n<td>132,30</td>\\n<td>130,94</td>\\n</tr>\\n<tr class=\"verySoftGreyBg\">\\n<td>02&nbsp;Juli&nbsp;2019</td>\\n<td>131,09</td>\\n<td>129,75</td>\\n</tr>\\n<tr>\\n<td>01&nbsp;Juli&nbsp;2019</td>\\n<td>131,12</td>\\n<td>129,77</td>\\n</tr>\\n<tr class=\"verySoftGreyBg\">\\n<td>28&nbsp;Juni&nbsp;2019</td>\\n<td>132,07</td>\\n<td>130,71</td>\\n</tr>\\n<tr>\\n<td>27&nbsp;Juni&nbsp;2019</td>\\n<td>131,98</td>\\n<td>130,63</td>\\n</tr>\\n<tr class=\"verySoftGreyBg\">\\n<td>26&nbsp;Juni&nbsp;2019</td>\\n<td>132,56</td>\\n<td>131,20</td>\\n</tr>\\n<tr>\\n<td>25&nbsp;Juni&nbsp;2019</td>\\n<td>132,65</td>\\n<td>131,28</td>\\n</tr>\\n<tr class=\"verySoftGreyBg\">\\n<td>24&nbsp;Juni&nbsp;2019</td>\\n<td>132,61</td>\\n<td>131,25</td>\\n</tr>\\n<tr>\\n<td>21&nbsp;Juni&nbsp;2019</td>\\n<td>132,42</td>\\n<td>131,05</td>\\n</tr>\\n<tr class=\"verySoftGreyBg\">\\n<td>20&nbsp;Juni&nbsp;2019</td>\\n<td>132,78</td>\\n<td>131,43</td>\\n</tr>\\n<tr>\\n<td>19&nbsp;Juni&nbsp;2019</td>\\n<td>132,20</td>\\n<td>130,85</td>\\n</tr>\\n<tr class=\"verySoftGreyBg\">\\n<td>18&nbsp;Juni&nbsp;2019</td>\\n<td>133,01</td>\\n<td>131,64</td>\\n</tr>\\n<tr>\\n<td>17&nbsp;Juni&nbsp;2019</td>\\n<td>132,79</td>\\n<td>131,42</td>\\n</tr>\\n<tr class=\"verySoftGreyBg\">\\n<td>14&nbsp;Juni&nbsp;2019</td>\\n<td>132,73</td>\\n<td>131,36</td>\\n</tr>\\n<tr>\\n<td>13&nbsp;Juni&nbsp;2019</td>\\n<td>132,53</td>\\n<td>131,18</td>\\n</tr>\\n<tr class=\"verySoftGreyBg\">\\n<td>12&nbsp;Juni&nbsp;2019</td>\\n<td>131,88</td>\\n<td>130,56</td>\\n</tr>\\n<tr>\\n<td>11&nbsp;Juni&nbsp;2019</td>\\n <td>131,96</td>\\n<td>130,64</td>\\n</tr>\\n<tr class=\"verySoftGreyBg\">\\n<td>10&nbsp;Juni&nbsp;2019</td>\\n<td>131,84</td>\\n<td>130,49</td>\\n</tr>\\n<tr>\\n<td>31&nbsp;Mei&nbsp;2019</td>\\n<td>132,32</td>\\n<td>130,96</td>\\n</tr>\\n<tr class=\"verySoftGreyBg\">\\n<td>29&nbsp;Mei&nbsp;2019</td>\\n<td>132,48</td>\\n<td>131,15</td>\\n</tr>\\n<tr>\\n<td>28&nbsp;Mei&nbsp;2019</td>\\n<td>132,02</td>\\n<td>130,69</td>\\n</tr>\\n<tr class=\"verySoftGreyBg\">\\n<td>27&nbsp;Mei&nbsp;2019</td>\\n<td>131,86</td>\\n<td>130,51</td>\\n</tr>\\n<tr>\\n<td>24&nbsp;Mei&nbsp;2019</td>\\n<td>132,51</td>\\n<td>131,16</td>\\n</tr>\\n<tr class=\"verySoftGreyBg\">\\n<td>23&nbsp;Mei&nbsp;2019</td>\\n<td>132,34</td>\\n<td>130,98</td>\\n</tr>\\n<tr>\\n<td>22&nbsp;Mei&nbsp;2019</td>\\n<td>131,71</td>\\n<td>130,37</td>\\n</tr>\\n<tr class=\"verySoftGreyBg\">\\n<td>21&nbsp;Mei&nbsp;2019</td>\\n<td>131,94</td>\\n<td>130,60</td>\\n</tr>\\n<tr>\\n<td>20&nbsp;Mei&nbsp;2019</td>\\n<td>132,03</td>\\n<td>130,69</td>\\n</tr>\\n<tr class=\"verySoftGreyBg\">\\n<td>17&nbsp;Mei&nbsp;2019</td>\\n<td>132,30</td>\\n<td>130,95</td>\\n</tr>\\n<tr>\\n<td>16&nbsp;Mei&nbsp;2019</td>\\n<td>132,73</td>\\n<td>131,40</td>\\n</tr>\\n<tr class=\"verySoftGreyBg\">\\n<td>15&nbsp;Mei&nbsp;2019</td>\\n<td>132,51</td>\\n<td>131,16</td>\\n</tr>\\n<tr>\\n<td>14&nbsp;Mei&nbsp;2019</td>\\n<td>132,48</td>\\n<td>131,16</td>\\n</tr>\\n<tr class=\"verySoftGreyBg\">\\n<td>13&nbsp;Mei&nbsp;2019</td>\\n<td>131,54</td>\\n<td>130,19</td>\\n</tr>\\n<tr>\\n<td>10&nbsp;Mei&nbsp;2019</td>\\n<td>131,14</td>\\n<td>129,80</td>\\n</tr>\\n<tr class=\"verySoftGreyBg\">\\n<td>09&nbsp;Mei&nbsp;2019</td>\\n<td>131,14</td>\\n<td>129,80</td>\\n</tr>\\n<tr>\\n<td>08&nbsp;Mei&nbsp;2019</td>\\n<td>130,69</td>\\n<td>129,34</td>\\n </tr>\\n<tr class=\"verySoftGreyBg\">\\n<td>07&nbsp;Mei&nbsp;2019</td>\\n<td>129,91</td>\\n<td>128,60</td>\\n</tr>\\n<tr>\\n<td>06&nbsp;Mei&nbsp;2019</td>\\n<td>130,14</td>\\n<td>128,80</td>\\n</tr>\\n<tr class=\"verySoftGreyBg\">\\n<td>03&nbsp;Mei&nbsp;2019</td>\\n<td>128,83</td>\\n<td>127,52</td>\\n</tr>\\n<tr>\\n<td>02&nbsp;Mei&nbsp;2019</td>\\n<td>128,31</td>\\n<td>127,01</td>\\n</tr>\\n<tr class=\"verySoftGreyBg\">\\n<td>30&nbsp;April&nbsp;2019</td>\\n<td>128,02</td>\\n<td>126,72</td>\\n</tr>\\n<tr>\\n<td>29&nbsp;April&nbsp;2019</td>\\n<td>127,77</td>\\n<td>126,49</td>\\n</tr>\\n<tr class=\"verySoftGreyBg\">\\n<td>26&nbsp;April&nbsp;2019</td>\\n<td>127,70</td>\\n<td>126,42</td>\\n</tr>\\n<tr>\\n<td>25&nbsp;April&nbsp;2019</td>\\n<td>127,11</td>\\n<td>125,82</td>\\n</tr>\\n<tr class=\"verySoftGreyBg\">\\n<td>24&nbsp;April&nbsp;2019</td>\\n<td>126,78</td>\\n<td>125,49</td>\\n</tr>\\n<tr>\\n<td>23&nbsp;April&nbsp;2019</td>\\n<td>126,60</td>\\n<td>125,31</td>\\n</tr>\\n<tr class=\"verySoftGreyBg\">\\n<td>22&nbsp;April&nbsp;2019</td>\\n<td>126,20</td>\\n<td>124,91</td>\\n</tr>\\n<tr>\\n<td>18&nbsp;April&nbsp;2019</td>\\n<td>125,84</td>\\n<td>124,55</td>\\n</tr>\\n<tr class=\"verySoftGreyBg\">\\n<td>16&nbsp;April&nbsp;2019</td>\\n<td>126,30</td>\\n<td>125,02</td>\\n</tr>\\n<tr>\\n<td>15&nbsp;April&nbsp;2019</td>\\n<td>126,25</td>\\n<td>124,96</td>\\n</tr>\\n<tr class=\"verySoftGreyBg\">\\n<td>12&nbsp;April&nbsp;2019</td>\\n<td>127,35</td>\\n<td>126,06</td>\\n</tr>\\n<tr>\\n<td>11&nbsp;April&nbsp;2019</td>\\n<td>128,15</td>\\n<td>126,83</td>\\n</tr>\\n<tr class=\"verySoftGreyBg\">\\n<td>10&nbsp;April&nbsp;2019</td>\\n<td>128,00</td>\\n<td>126,69</td>\\n</tr>\\n<tr>\\n<td>09&nbsp;April&nbsp;2019</td>\\n<td>127,75</td>\\n<td>126,46</td>\\n</tr>\\n<tr class=\"verySoftGreyBg\">\\n<td>08&nbsp;April&nbsp;2019</td>\\n<td>127,60</td>\\n<td>126,29</td>\\n</tr>\\n<tr>\\n<td>05&nbsp;April&nbsp;2019</td>\\n<td>127,41</td>\\n<td>126,11</td>\\n</tr>\\n<tr class=\"verySoftGreyBg\">\\n<td>04&nbsp;April&nbsp;2019</td>\\n<td>127,92</td>\\n<td>126,61</td>\\n</tr>\\n<tr>\\n<td>02&nbsp;April&nbsp;2019</td>\\n<td>128,55</td>\\n<td>127,24</td>\\n</tr>\\n<tr class=\"verySoftGreyBg\">\\n<td>01&nbsp;April&nbsp;2019</td>\\n<td>128,68</td>\\n<td>127,37</td>\\n</tr>\\n<tr>\\n<td>29&nbsp;Maret&nbsp;2019</td>\\n<td>129,21</td>\\n<td>127,92</td>\\n</tr>\\n<tr class=\"verySoftGreyBg\">\\n<td>28&nbsp;Maret&nbsp;2019</td>\\n<td>130,04</td>\\n<td>128,72</td>\\n</tr>\\n<tr>\\n<td>27&nbsp;Maret&nbsp;2019</td>\\n<td>129,19</td>\\n<td>127,88</td>\\n</tr>\\n<tr class=\"verySoftGreyBg\">\\n<td>26&nbsp;Maret&nbsp;2019</td>\\n<td>129,38</td>\\n<td>128,07</td>\\n</tr>\\n<tr>\\n<td>25&nbsp;Maret&nbsp;2019</td>\\n<td>130,23</td>\\n<td>128,90</td>\\n</tr>\\n<tr class=\"verySoftGreyBg\">\\n<td>22&nbsp;Maret&nbsp;2019</td>\\n<td>128,50</td>\\n<td>127,19</td>\\n</tr>\\n<tr>\\n<td>21&nbsp;Maret&nbsp;2019</td>\\n<td>128,16</td>\\n<td>126,84</td>\\n</tr>\\n<tr class=\"verySoftGreyBg\">\\n<td>20&nbsp;Maret&nbsp;2019</td>\\n<td>128,14</td>\\n<td>126,86</td>\\n</tr>\\n<tr>\\n<td>19&nbsp;Maret&nbsp;2019</td>\\n<td>128,60</td>\\n<td>127,30</td>\\n</tr>\\n<tr class=\"verySoftGreyBg\">\\n<td>18&nbsp;Maret&nbsp;2019</td>\\n<td>128,26</td>\\n<td>126,96</td>\\n</tr>\\n<tr>\\n<td>15&nbsp;Maret&nbsp;2019</td>\\n<td>128,69</td>\\n<td>127,36</td>\\n</tr>\\n<tr class=\"verySoftGreyBg\">\\n<td>14&nbsp;Maret&nbsp;2019</td>\\n<td>128,55</td>\\n<td>127,24</td>\\n</tr>\\n<tr>\\n<td>13&nbsp;Maret&nbsp;2019</td>\\n<td>129,01</td>\\n<td>127,70</td>\\n</tr>\\n<tr class=\"verySoftGreyBg\">\\n<td>12&nbsp;Maret&nbsp;2019</td>\\n<td>128,56</td>\\n<td>127,25</td>\\n</tr>\\n<tr>\\n<td>11&nbsp;Maret&nbsp;2019</td>\\n<td>129,64</td>\\n<td>128,33</td>\\n</tr>\\n<tr class=\"verySoftGreyBg\">\\n<td>08&nbsp;Maret&nbsp;2019</td>\\n<td>128,19</td>\\n<td>126,88</td>\\n</tr>\\n<tr>\\n<td>06&nbsp;Maret&nbsp;2019</td>\\n<td>127,01</td>\\n<td>125,73</td>\\n</tr>\\n<tr class=\"verySoftGreyBg\">\\n<td>05&nbsp;Maret&nbsp;2019</td>\\n<td>127,10</td>\\n<td>125,82</td>\\n</tr>\\n<tr>\\n<td>04&nbsp;Maret&nbsp;2019</td>\\n<td>127,04</td>\\n<td>125,74</td>\\n</tr>\\n<tr class=\"verySoftGreyBg\">\\n<td>01&nbsp;Maret&nbsp;2019</td>\\n<td>126,99</td>\\n<td>125,67</td>\\n</tr>\\n<tr>\\n<td>28&nbsp;Februari&nbsp;2019</td>\\n<td>127,46</td>\\n<td>126,19</td>\\n</tr>\\n<tr class=\"verySoftGreyBg\">\\n<td>27&nbsp;Februari&nbsp;2019</td>\\n<td>127,29</td>\\n<td>125,99</td>\\n</tr>\\n<tr>\\n<td>26&nbsp;Februari&nbsp;2019</td>\\n<td>126,92</td>\\n<td>125,61</td>\\n</tr>\\n<tr class=\"verySoftGreyBg\">\\n<td>25&nbsp;Februari&nbsp;2019</td>\\n<td>127,16</td>\\n<td>125,89</td>\\n</tr>\\n<tr>\\n<td>22&nbsp;Februari&nbsp;2019</td>\\n<td>127,77</td>\\n<td>126,47</td>\\n</tr>\\n<tr class=\"verySoftGreyBg\">\\n<td>21&nbsp;Februari&nbsp;2019</td>\\n<td>127,57</td>\\n<td>126,29</td>\\n</tr>\\n<tr>\\n<td>20&nbsp;Februari&nbsp;2019</td>\\n<td>127,45</td>\\n<td>126,15</td>\\n</tr>\\n<tr class=\"verySoftGreyBg\">\\n<td>19&nbsp;Februari&nbsp;2019</td>\\n<td>128,42</td>\\n<td>127,10</td>\\n</tr>\\n<tr>\\n<td>18&nbsp;Februari&nbsp;2019</td>\\n<td>128,26</td>\\n<td>126,97</td>\\n</tr>\\n<tr class=\"verySoftGreyBg\">\\n<td>15&nbsp;Februari&nbsp;2019</td>\\n<td>128,61</td>\\n<td>127,31</td>\\n</tr>\\n<tr>\\n<td>14&nbsp;Februari&nbsp;2019</td>\\n <td>127,61</td>\\n<td>126,33</td>\\n</tr>\\n<tr class=\"verySoftGreyBg\">\\n<td>13&nbsp;Februari&nbsp;2019</td>\\n<td>127,47</td>\\n<td>126,18</td>\\n</tr>\\n<tr>\\n<td>12&nbsp;Februari&nbsp;2019</td>\\n<td>128,16</td>\\n<td>126,88</td>\\n</tr>\\n<tr class=\"verySoftGreyBg\">\\n<td>11&nbsp;Februari&nbsp;2019</td>\\n<td>128,07</td>\\n<td>126,79</td>\\n</tr>\\n<tr>\\n<td>08&nbsp;Februari&nbsp;2019</td>\\n<td>128,15</td>\\n<td>126,85</td>\\n</tr>\\n<tr class=\"verySoftGreyBg\">\\n<td>07&nbsp;Februari&nbsp;2019</td>\\n<td>127,92</td>\\n<td>126,63</td>\\n</tr>\\n<tr>\\n<td>06&nbsp;Februari&nbsp;2019</td>\\n<td>127,81</td>\\n<td>126,52</td>\\n</tr>\\n<tr class=\"verySoftGreyBg\">\\n<td>04&nbsp;Februari&nbsp;2019</td>\\n<td>128,24</td>\\n<td>126,95</td>\\n</tr>\\n<tr>\\n<td>01&nbsp;Februari&nbsp;2019</td>\\n<td>129,05</td>\\n<td>127,75</td>\\n</tr>\\n<tr class=\"verySoftGreyBg\">\\n<td>31&nbsp;Januari&nbsp;2019</td>\\n<td>129,92</td>\\n<td>128,60</td>\\n</tr>\\n<tr>\\n<td>30&nbsp;Januari&nbsp;2019</td>\\n<td>129,79</td>\\n<td>128,47</td>\\n</tr>\\n<tr class=\"verySoftGreyBg\">\\n<td>29&nbsp;Januari&nbsp;2019</td>\\n<td>129,74</td>\\n<td>128,43</td>\\n</tr>\\n<tr>\\n<td>28&nbsp;Januari&nbsp;2019</td>\\n<td>128,97</td>\\n<td>127,65</td>\\n</tr>\\n<tr class=\"verySoftGreyBg\">\\n<td>25&nbsp;Januari&nbsp;2019</td>\\n<td>129,68</td>\\n<td>128,37</td>\\n</tr>\\n<tr>\\n<td>24&nbsp;Januari&nbsp;2019</td>\\n<td>129,79</td>\\n<td>128,48</td>\\n</tr>\\n<tr class=\"verySoftGreyBg\">\\n<td>23&nbsp;Januari&nbsp;2019</td>\\n<td>130,05</td>\\n<td>128,75</td>\\n</tr>\\n<tr>\\n<td>22&nbsp;Januari&nbsp;2019</td>\\n<td>130,39</td>\\n<td>129,07</td>\\n</tr>\\n<tr class=\"verySoftGreyBg\">\\n<td>21&nbsp;Januari&nbsp;2019</td>\\n<td>130,31</td>\\n<td>128,98</td>\\n</tr>\\n<tr>\\n<td>18&nbsp;Januari&nbsp;2019</td>\\n <td>130,37</td>\\n<td>129,03</td>\\n</tr>\\n<tr class=\"verySoftGreyBg\">\\n<td>17&nbsp;Januari&nbsp;2019</td>\\n<td>130,61</td>\\n<td>129,27</td>\\n</tr>\\n<tr>\\n<td>16&nbsp;Januari&nbsp;2019</td>\\n<td>131,11</td>\\n<td>129,75</td>\\n</tr>\\n<tr class=\"verySoftGreyBg\">\\n<td>15&nbsp;Januari&nbsp;2019</td>\\n<td>130,56</td>\\n<td>129,23</td>\\n</tr>\\n<tr>\\n<td>14&nbsp;Januari&nbsp;2019</td>\\n<td>130,52</td>\\n<td>129,19</td>\\n</tr>\\n<tr class=\"verySoftGreyBg\">\\n<td>11&nbsp;Januari&nbsp;2019</td>\\n<td>130,62</td>\\n<td>129,31</td>\\n</tr>\\n<tr>\\n<td>10&nbsp;Januari&nbsp;2019</td>\\n<td>131,22</td>\\n<td>129,88</td>\\n</tr>\\n<tr class=\"verySoftGreyBg\">\\n<td>09&nbsp;Januari&nbsp;2019</td>\\n<td>130,31</td>\\n<td>129,00</td>\\n</tr>\\n<tr>\\n<td>08&nbsp;Januari&nbsp;2019</td>\\n<td>129,84</td>\\n<td>128,52</td>\\n</tr>\\n<tr class=\"verySoftGreyBg\">\\n<td>07&nbsp;Januari&nbsp;2019</td>\\n<td>130,86</td>\\n<td>129,51</td>\\n</tr>\\n<tr>\\n<td>04&nbsp;Januari&nbsp;2019</td>\\n<td>133,51</td>\\n<td>132,17</td>\\n</tr>\\n<tr class=\"verySoftGreyBg\">\\n<td>03&nbsp;Januari&nbsp;2019</td>\\n<td>135,44</td>\\n<td>134,08</td>\\n</tr>\\n<tr>\\n<td>02&nbsp;Januari&nbsp;2019</td>\\n<td>132,89</td>\\n<td>131,54</td>\\n</tr>\\n</table>\\n</div>\\n<div class=\"uespacer10\"></div>\\n<div class=\"greenBtn pnovafont\">\\n* Berdasarkan data dari <a href=\"https://www.bi.go.id\" target=\"_blank\" class=\"bold\">Bank Indonesia</a>\\n</div>\\n</div>\\n</div>\\n</div>\\n<div class=\"uespacer30\">&nbsp;</div>\\n<div id=\"try\"></div>\\n<div class=\"darkGreyBg\">\\n<div class=\"uespacer20\"></div>\\n<div class=\"container-fluid greenBg\">\\n<form method=\"post\" action=\"action-subscriber.php\" class=\"ueFormCheck\" name=\"footer-form\">\\n<input type=\"hidden\" name=\"tokenc\" value=\"d2hhN1VvRHltajBNcnc9PQ==\" />\\n<input type=\"hidden\" name=\"tokenk\" value=\"1a49d277d10911ea\" />\\n<div class=\"container\">\\n<div class=\"row hairline-gutter\">\\n<div class=\"col-lg-6 align-self-center\">\\n<div class=\"centerText bold fontsize16 colorWhite pnovafont\">\\n<div class=\"uespacer40 d-lg-none\"></div>\\nUpdate terus mengenai promo, tools dan berita terbaru dari Monex\\n</div>\\n</div>\\n<div class=\"col-lg-4 align-self-center\">\\n<div class=\"uespacer20\"></div>\\n<div class=\"centerText\">\\n<input type=\"email\" class=\"pnovafont\" id=\"subsfooter\" required name=\"footerSubscribeInput\" placeholder=\"Masukkan Email Anda di Sini\" />\\n</div>\\n <div class=\"uespacer20\"></div>\\n</div>\\n<div class=\"col-lg-2 align-self-center\">\\n\\n<input type=\"submit\" class=\"bold pnovafont\" value=\"DAFTAR\" id=\"subsFooterSubmit\" />\\n<div class=\"uespacer40 d-lg-none\"></div>\\n</div>\\n</div>\\n</div>\\n</form>\\n</div>\\n<div class=\"container\">\\n<div class=\"row small-gutter\">\\n<div class=\"col-lg-9\">\\n<div class=\"uespacer30\"></div>\\n<div class=\"colorWhite bold fontsize26 pnovafont\">QUICK LINKS</div>\\n<div class=\"uespacer10\"></div>\\n<div class=\"row text-uppercase\">\\n<div class=\"col-lg-4\">\\n<div class=\"footerMenu\">\\n<a href=\"forex.htm\">FOREX</a>\\n<a href=\"gold-updates.htm\">GOLD UPDATES</a>\\n<a href=\"commodity.htm\">COMMODITY</a>\\n<a href=\"stock-index.htm\">STOCK INDEX</a>\\n</div>\\n</div>\\n<div class=\"col-lg-4\">\\n<div class=\"footerMenu\">\\n<a href=\"today-analysis.htm\">TODAY\\'S ANALYSIS</a>\\n<a href=\"world-economy.htm\">WORLD ECONOMY</a>\\n<a href=\"index-news.htm\">INDEKS BERITA</a>\\n\\n</div>\\n</div>\\n<div class=\"col-lg-4\">\\n<div class=\"footerMenu\">\\n<a href=\"calendar/central-bank-meeting.htm\">CENTRAL BANK MEETING</a>\\n<a href=\"calendar/public-market-holiday.htm\">MARKET/PUBLIC HOLIDAY</a>\\n<a href=\"calendar/earnings.htm\">EARNINGS CALENDAR</a>\\n<a href=\"economic-calendar/hari-ini.htm\">ECONOMIC CALENDAR</a>\\n</div>\\n</div>\\n</div>\\n</div>\\n<div class=\"col-lg-3 centerText align-self-center\">\\n<div class=\"uespacer50\"></div>\\n<div class=\"colorWhite bold fontsize16 pnovafont\">SOCIAL MEDIA</div>\\n<div class=\"uespacer20\"></div>\\n<div id=\"socfooter\">\\n<a href=\"https://facebook.com/monexnews\" target=\"_blank\"><img src=\"images/footersoc-fb.png\" alt=\"Our Facebook\" title=\"Our Facebook\" /></a>\\n\\n<a href=\"https://twitter.com/monexnews\" target=\"_blank\"><img src=\"images/footersoc-tw.png\" alt=\"Our Twitter\" title=\"Our Twitter\" /></a>\\n\\n</div>\\n</div>\\n</div>\\n<div class=\"row justify-content-center\">\\n<div class=\"col-lg-10 col-12\">\\n<div class=\"uespacer60\"></div>\\n<div class=\"fontsize10 centerText colorWhite\">\\nMonexnews.com menyajikan berita ekonomi terkini. Fokus pemberitaan monexnews adalah berita forex, saham, valuta asing, pergerakan nilai tukar dollar dan kurs mata uang utama lainnya, komoditi, harga emas logam mulia dan harga minyak dunia. Dilengkapi analisa harian dan indikator pasar keuangan dunia hari ini, rubrik belajar trading serta investasi online.\\n</div>\\n<div class=\"uespacer20\"></div>\\n</div>\\n</div>\\n</div>\\n</div>\\n<script>\\n$(\"#menus\").mmenu({\\n\\t  navbar: {\\n\\t\\ttitle: \\'\\'\\n\\t  }\\n\\t});\\n$(\\'.batasmega\\').addClass(\\'borderGreyCF\\');\\nvar elementPosition = $(\\'#navigation\\').offset();\\n$(window).scroll(function(){\\n\\t//console.log(elementPosition);\\n\\t\\tif($(window).scrollTop() > elementPosition.top){\\n\\t\\t\\t  //$(\\'#navigation\\').css(\\'position\\',\\'fixed\\').css(\\'top\\',\\'0\\').css(\\'z-index\\',\\'99\\');\\n\\t\\t\\t  $(\\'#navigation\\').addClass(\\'stickyHeader\\');\\n\\t\\t\\t  $(\\'.batasnya\\').addClass(\\'borderGreyEE\\');\\n\\t\\t\\t  $(\\'.batasmega\\').removeClass(\\'borderGreyCF\\');\\n\\t\\t\\t  //$(\\'#leftSideMenu\\').css(\\'margin-top\\',\\'15px\\');\\n\\t\\t\\t  $(\\'.cmenu\\').hide();\\n\\t\\t\\t  \\n\\t\\t} else {\\n\\t\\t\\t//$(\\'#navigation\\').css(\\'position\\',\\'static\\');\\n\\t\\t\\t $(\\'#navigation\\').removeClass(\\'stickyHeader\\');\\n\\t\\t\\t//$(\\'#leftSideMenu\\').css(\\'margin-top\\',\\'0px\\');\\n\\t\\t\\t$(\\'.batasnya\\').removeClass(\\'borderGreyEE\\');\\n\\t\\t\\t$(\\'.batasmega\\').addClass(\\'borderGreyCF\\');\\n\\t\\t\\t $(\\'.cmenu\\').show();\\n\\t\\t}\\n\\t\\tvar scroll = $(window).scrollTop(); \\n\\t\\tif (scroll >= 250) {\\n\\t\\t\\t$(\\'#leftSideMenu\\').css({\"margin-top\":\"15px\"});\\n\\t\\t}else if (scroll <= 180) {\\n\\t\\t\\t$(\\'#leftSideMenu\\').css({\"margin-top\":\"0\"});\\n\\t\\t}\\n\\t\\t\\n});\\n$(\\'#leftSideMenu\\').simpleScrollFollow({\\n  limit_elem: \\'#try\\',\\n  upper_side: \\'#navigation\\'\\n //lower_side: \\'#try\\'\\n});\\n \\n</script>\\n<script>\\n$(\\'.searchPopUpButton\\').click(function() {\\n\\t$.magnificPopup.open({items: {src: \\'#searchPop\\'}, type: \\'inline\\'});\\n});\\n</script>\\n<div id=\"searchPop\" class=\"ue-modal mfp-hide\" style=\"background-color:#FFFFFF;-webkit-border-radius: 10px;\\n-moz-border-radius: 10px;\\nborder-radius: 10px;margin-right:2%; max-width:950px;margin:auto;\">\\n<div class=\"popupdocinner padding25\">\\n<div>\\n<p class=\"bold pnovafont fontsize16 \">\\nSearch\\n</p>\\n<div class=\"uespacer10\"></div>\\n<div>\\n<form method=\"get\" action=\"news\">\\n<input type=\"text\" name=\"search\" id=\"searchBar\" class=\"verySoftGreyBgFA\" placeholder=\"\" style=\"padding:5px;\" />\\n</form>\\n</div>\\n</div>\\n</div>\\n</div>\\n\\n<script type=\"text/javascript\" src=\"ue-js/ue-form/jquery.material.form.js\"></script>\\n<link rel=\"stylesheet\" href=\"ue-js/ue-form/jquery.material.form.css?1\" type=\"text/css\" media=\"all\" />\\n<script type=\"text/javascript\" src=\"ue-js/ue-form/jquery.material.form.init.js?1\"></script>\\n\\n\\n<script type=\"text/javascript\" src=\"ue-js/vcount/counter.js?213\"></script>\\n<iframe src=\"https://mifx.com/mycookie.php?swp=\" style=\"width: 0.1px; height: 0.1px; opacity: 0; border: none; position: absolute; top: 1px; right: 1px;\"></iframe><iframe src=\"https://analytic.mifx.com/index.php?datatr=N3dwM1NRZlRzdS9sQWlwZ0tWdDdmUVhmZW14U3BwdUQ3NUtITXhpTm9XTlQxYUpXQzZmVDR4eDhLZVdiZzhUZnJJSGw3UzdGK1dpYWdSS1VONzAzN1hCOW5DWXdqd0hXdkN4VDROaUJNOEhESHZ4elFBbGtsWFUwc2Ixa3h3bWpQeHhKd2N5bTVaZlhNcit2L0lnMTJYK2NKaXRlM3Y4MWUvd24rTGR2NVdzPQ==\" style=\"width: 0.1px; height: 0.1px; opacity: 0; border: none; position: absolute; top: 1px; right: 1px;\"></iframe><script type=\"text/javascript\">\\n\\t$(\\'.ueParallax\\').parallax({imageSrc: $(this).attr(\\'data-image-src\\')});\\n\\t$( \".showMenuPage\" ).click(function() {\\n\\t  $( \".showkecil\" ).slideToggle( \"slow\" );\\n\\t});\\n\\t$(\\'#menus\\').removeClass(\\'hidemenu\\');\\n</script>\\n<script type=\"text/javascript\">updateOnlineVisitorsCounter(true)</script>\\n\\n\\n<script async src=\"https://www.googletagmanager.com/gtag/js?id=UA-21662836-1\"></script>\\n<script>\\r\\n window.dataLayer = window.dataLayer || [];\\r\\n function gtag(){dataLayer.push(arguments);}\\r\\n gtag(\\'js\\', new Date());\\r\\n\\r\\n gtag(\\'config\\', \\'UA-21662836-1\\');\\r\\n</script>\\n\\n<script type=\"text/javascript\" id=\"hs-script-loader\" async defer src=\"//js.hs-scripts.com/2166894.js\"></script>\\n</body>\\n</html>\\n'"
      ]
     },
     "execution_count": 12,
     "metadata": {},
     "output_type": "execute_result"
    }
   ],
   "source": [
    "url_get.content\n"
   ]
  },
  {
   "cell_type": "markdown",
   "metadata": {},
   "source": [
    "As we can see we get a very unstructured and complex html, which actually contains the codes needed to show the webpages on your web browser. But we as human still confused what and where we can use that piece of code, so here where we use the beautifulsoup. Beautiful soup class will result a beautifulsoup object. Beautiful Soup transforms a complex HTML document into a complex tree of Python objects. But you’ll only ever have to deal with about four kinds of objects: `Tag`, `NavigableString`, `BeautifulSoup`, and `Comment`. But at this module we will only use `BeautifulSoup`."
   ]
  },
  {
   "cell_type": "code",
   "execution_count": 3,
   "metadata": {},
   "outputs": [
    {
     "name": "stdout",
     "output_type": "stream",
     "text": [
      "<class 'bs4.BeautifulSoup'>\n"
     ]
    }
   ],
   "source": [
    "from bs4 import BeautifulSoup \n",
    "\n",
    "soup = BeautifulSoup(url_get.content,\"html.parser\")\n",
    "print(type(soup))"
   ]
  },
  {
   "cell_type": "markdown",
   "metadata": {},
   "source": [
    "Let's see how our beautifulsoup looks like. As you can see, the content is the same with our `get_url` object but it's tidier. Also beautifulsoup give us method to make it even more prettier, for tidyness purpouse we slice to only see first 1045 character. "
   ]
  },
  {
   "cell_type": "code",
   "execution_count": 4,
   "metadata": {},
   "outputs": [
    {
     "name": "stdout",
     "output_type": "stream",
     "text": [
      "<!DOCTYPE html PUBLIC \"-//W3C//DTD XHTML 1.0 Strict//EN\" \"http://www.w3.org/TR/xhtml1/DTD/xhtml1-strict.dtd\">\n",
      "<html __expr-val-dir=\"ltr\" dir=\"ltr\" lang=\"en-us\" xmlns=\"http://www.w3.org/1999/xhtml\">\n",
      " <head>\n",
      "  <cfheader name=\"X-XSS-Protection\" value=\"0\">\n",
      "  </cfheader>\n",
      "  <meta content=\"width=device-width, initial-scale=1.0\" name=\"viewport\"/>\n",
      "  <meta content=\"text/html; charset=utf-8\" http-equiv=\"Content-Type\"/>\n",
      "  <meta content=\"0\" http-equiv=\"Expires\"/>\n",
      "  <meta content=\"IE=9\" http-equiv=\"X-UA-Compatible\"/>\n",
      "  <title>\n",
      "   Data Inflasi\r\n",
      " - Bank Sentral Republik Indonesia\n",
      "  </title>\n",
      "  <link href=\"/_biweb/css/images/favicon.ico\" rel=\"shortcut icon\" type=\"image/vnd.microsoft.icon\"/>\n",
      "  <link href=\"/_layouts/1033/styles/Themable/search.css?rev=T%2Bhraxktc1A8EnaG5gGMHQ%3D%3D\" rel=\"stylesheet\" type=\"text/css\"/>\n",
      "  <link href=\"/_layouts/1033/styles/Themable/corev4.css?rev=p63%2BuzTeSJc22nVGNZ5zwg%3D%3D\" rel=\"stylesheet\" type=\"text/css\"/>\n",
      "  <script type=\"text/javascript\">\n",
      "   var _fV4UI = true;\n",
      "  </script>\n",
      "  <script type=\"text/javascript\">\n",
      "   // <\n"
     ]
    }
   ],
   "source": [
    "print(soup.prettify()[:1045])"
   ]
  },
  {
   "cell_type": "markdown",
   "metadata": {},
   "source": [
    "Now we already have a tidier html, now we should search the lines that we want to use. Let's back to our web page first.\n",
    "\n",
    "<img src=\"asset/capture.png\">\n",
    "\n",
    "The information that we need are the month and the inflation rate each month, which contain in the table. To know which part of the code refer to that table, we can just move our cusor there, right click, and inspect element. Then we will see something like this. \n",
    "\n",
    "<img src=\"asset/capture_1.png\">\n",
    "\n",
    "From inspect element we know that we need to find the line table with class `table`. We can use the find method at our beautifusoup object. Let's also call our object to see what we get. "
   ]
  },
  {
   "cell_type": "code",
   "execution_count": 5,
   "metadata": {},
   "outputs": [
    {
     "name": "stdout",
     "output_type": "stream",
     "text": [
      "table class=\"table1\">\n",
      " <tr>\n",
      "  <th>\n",
      "   Bulan Tahun\n",
      "  </th>\n",
      "  <th>\n",
      "   Tingkat Inflasi\n",
      "  </th>\n",
      " </tr>\n",
      " <tr>\n",
      "  <td style=\"text-align:left;\">\n",
      "   April 2020\n",
      "  </td>\n",
      "  <td style=\"text-align:left;\">\n",
      "   2.67 %\n",
      "  </td>\n",
      " </tr>\n",
      " <tr>\n",
      "  <td style=\"text-align:left;\">\n",
      "   Maret 2020\n",
      "  </td>\n",
      "  <td style=\"text-align:left;\">\n",
      "   2.96 %\n",
      "  </td>\n",
      " </tr>\n",
      " <tr>\n",
      "  <td style=\"text-align:left;\">\n",
      "   Februari 2020\n",
      "  </td>\n",
      "  <td style=\"text-align:left;\">\n",
      "   2.98 %\n",
      "  </td>\n",
      " </tr>\n",
      " <tr>\n",
      "  <td style=\"text-align:left;\">\n",
      "   Janua\n"
     ]
    }
   ],
   "source": [
    "table = soup.find('table', attrs={'class':'table1'})\n",
    "print(table.prettify()[1:500])"
   ]
  },
  {
   "cell_type": "markdown",
   "metadata": {},
   "source": [
    "As we can see, we find a right lines with information we want. I'll explain a bit about the HTML codes you need to know : \n",
    "\n",
    "- `th` stand for table header/header cell\n",
    "- `tr` stand for table row\n",
    "- `td` stand for standard cell \n",
    "\n",
    "That's all term in HTML `table` that you need to know. Now we can pull it one by one, but we will use looping to make our job easier. But first let's make one object that will find all `tr` in `table` to help us in looping (so we can loop with the length of the table row)."
   ]
  },
  {
   "cell_type": "code",
   "execution_count": 6,
   "metadata": {
    "scrolled": true
   },
   "outputs": [
    {
     "data": {
      "text/plain": [
       "[<tr>\n",
       " <th>\n",
       "                         Bulan Tahun \n",
       "                     </th>\n",
       " <th>\n",
       "                         Tingkat Inflasi\n",
       "                     </th>\n",
       " </tr>,\n",
       " <tr>\n",
       " <td style=\"text-align:left;\">\n",
       "                     April 2020\n",
       "                 </td>\n",
       " <td style=\"text-align:left;\">\n",
       "                     2.67 %\n",
       "                 </td>\n",
       " </tr>]"
      ]
     },
     "execution_count": 6,
     "metadata": {},
     "output_type": "execute_result"
    }
   ],
   "source": [
    "tr = table.find_all('tr')\n",
    "tr[:2] # just call 2 founded tr"
   ]
  },
  {
   "cell_type": "markdown",
   "metadata": {},
   "source": [
    "Here what the looping do to scrap the information: \n",
    "\n",
    "- First we need to establish a placeholder to receive the information that we scrap. \n",
    "- We named it `temp` and it's a tuple. \n",
    "- Then we will make a loop from one until the the length of the table row, \n",
    "- which we will find all cell of the column one and two which contain period and the inflation rate. \n",
    "- Then we will append it to our tuple that we prepared before, \n",
    "- every one iteration we will scrap one line of the table.  "
   ]
  },
  {
   "cell_type": "code",
   "execution_count": 7,
   "metadata": {},
   "outputs": [
    {
     "data": {
      "text/plain": [
       "[('April 2020', '2.67 %'),\n",
       " ('Maret 2020', '2.96 %'),\n",
       " ('Februari 2020', '2.98 %'),\n",
       " ('Januari 2020', '2.68 %'),\n",
       " ('Desember 2019', '2.72 %'),\n",
       " ('Nopember 2019', '3.00 %'),\n",
       " ('Oktober 2019', '3.13 %'),\n",
       " ('September 2019', '3.39 %'),\n",
       " ('Agustus 2019', '3.49 %'),\n",
       " ('Juli 2019', '3.32 %'),\n",
       " ('Juni 2019', '3.28 %'),\n",
       " ('Mei 2019', '3.32 %'),\n",
       " ('April 2019', '2.83 %'),\n",
       " ('Maret 2019', '2.48 %'),\n",
       " ('Februari 2019', '2.57 %'),\n",
       " ('Januari 2019', '2.82 %'),\n",
       " ('Desember 2018', '3.13 %'),\n",
       " ('Nopember 2018', '3.23 %'),\n",
       " ('Oktober 2018', '3.16 %'),\n",
       " ('September 2018', '2.88 %')]"
      ]
     },
     "execution_count": 7,
     "metadata": {},
     "output_type": "execute_result"
    }
   ],
   "source": [
    "temp = [] #initiating a tuple\n",
    "\n",
    "for i in range(1, len(tr)):\n",
    "    row = table.find_all('tr')[i]\n",
    "    \n",
    "    #get bulan\n",
    "    period = row.find_all('td')[0].text\n",
    "    period = period.strip() #for removing the excess whitespace\n",
    "    \n",
    "    #get inflasi\n",
    "    inflation = row.find_all('td')[1].text\n",
    "    inflation = inflation.strip() #for removing the excess whitespace\n",
    "    \n",
    "    temp.append((period,inflation)) \n",
    "    \n",
    "temp "
   ]
  },
  {
   "cell_type": "markdown",
   "metadata": {},
   "source": [
    "That the result we get, At this point we can input it to a pandas' DataFrame and do usual data analysis, but if you notice the original webpage give us reversed information. To do a further analysis let's reverse our tuple we can use `::-1` to do that. "
   ]
  },
  {
   "cell_type": "code",
   "execution_count": 8,
   "metadata": {},
   "outputs": [
    {
     "data": {
      "text/plain": [
       "[('September 2018', '2.88 %'),\n",
       " ('Oktober 2018', '3.16 %'),\n",
       " ('Nopember 2018', '3.23 %'),\n",
       " ('Desember 2018', '3.13 %'),\n",
       " ('Januari 2019', '2.82 %'),\n",
       " ('Februari 2019', '2.57 %'),\n",
       " ('Maret 2019', '2.48 %'),\n",
       " ('April 2019', '2.83 %'),\n",
       " ('Mei 2019', '3.32 %'),\n",
       " ('Juni 2019', '3.28 %'),\n",
       " ('Juli 2019', '3.32 %'),\n",
       " ('Agustus 2019', '3.49 %'),\n",
       " ('September 2019', '3.39 %'),\n",
       " ('Oktober 2019', '3.13 %'),\n",
       " ('Nopember 2019', '3.00 %'),\n",
       " ('Desember 2019', '2.72 %'),\n",
       " ('Januari 2020', '2.68 %'),\n",
       " ('Februari 2020', '2.98 %'),\n",
       " ('Maret 2020', '2.96 %'),\n",
       " ('April 2020', '2.67 %')]"
      ]
     },
     "execution_count": 8,
     "metadata": {},
     "output_type": "execute_result"
    }
   ],
   "source": [
    "temp = temp[::-1]\n",
    "temp"
   ]
  },
  {
   "cell_type": "markdown",
   "metadata": {},
   "source": [
    "Then after we fix our tuple a bit, as usual we will input it to pandas' dataframe."
   ]
  },
  {
   "cell_type": "code",
   "execution_count": 9,
   "metadata": {},
   "outputs": [
    {
     "data": {
      "text/html": [
       "<div>\n",
       "<style scoped>\n",
       "    .dataframe tbody tr th:only-of-type {\n",
       "        vertical-align: middle;\n",
       "    }\n",
       "\n",
       "    .dataframe tbody tr th {\n",
       "        vertical-align: top;\n",
       "    }\n",
       "\n",
       "    .dataframe thead th {\n",
       "        text-align: right;\n",
       "    }\n",
       "</style>\n",
       "<table border=\"1\" class=\"dataframe\">\n",
       "  <thead>\n",
       "    <tr style=\"text-align: right;\">\n",
       "      <th></th>\n",
       "      <th>period</th>\n",
       "      <th>inflation</th>\n",
       "    </tr>\n",
       "  </thead>\n",
       "  <tbody>\n",
       "    <tr>\n",
       "      <th>0</th>\n",
       "      <td>September 2018</td>\n",
       "      <td>2.88 %</td>\n",
       "    </tr>\n",
       "    <tr>\n",
       "      <th>1</th>\n",
       "      <td>Oktober 2018</td>\n",
       "      <td>3.16 %</td>\n",
       "    </tr>\n",
       "    <tr>\n",
       "      <th>2</th>\n",
       "      <td>Nopember 2018</td>\n",
       "      <td>3.23 %</td>\n",
       "    </tr>\n",
       "    <tr>\n",
       "      <th>3</th>\n",
       "      <td>Desember 2018</td>\n",
       "      <td>3.13 %</td>\n",
       "    </tr>\n",
       "    <tr>\n",
       "      <th>4</th>\n",
       "      <td>Januari 2019</td>\n",
       "      <td>2.82 %</td>\n",
       "    </tr>\n",
       "  </tbody>\n",
       "</table>\n",
       "</div>"
      ],
      "text/plain": [
       "           period inflation\n",
       "0  September 2018    2.88 %\n",
       "1    Oktober 2018    3.16 %\n",
       "2   Nopember 2018    3.23 %\n",
       "3   Desember 2018    3.13 %\n",
       "4    Januari 2019    2.82 %"
      ]
     },
     "execution_count": 9,
     "metadata": {},
     "output_type": "execute_result"
    }
   ],
   "source": [
    "import pandas as pd\n",
    "\n",
    "df = pd.DataFrame(temp, columns = ('period','inflation'))\n",
    "df.head()"
   ]
  },
  {
   "cell_type": "markdown",
   "metadata": {},
   "source": [
    "After this just usual stuff, we can clean the data or save it to csv let's do a bit cleaning so we can do a bit of visualisation. We will change the inflation to float datatype, but before we can do that we need to clean the \" %\" first. After the it on the right data type we can do simple visualisation using matplotlib."
   ]
  },
  {
   "cell_type": "code",
   "execution_count": 10,
   "metadata": {},
   "outputs": [
    {
     "data": {
      "text/plain": [
       "<matplotlib.axes._subplots.AxesSubplot at 0x20d2235f130>"
      ]
     },
     "execution_count": 10,
     "metadata": {},
     "output_type": "execute_result"
    },
    {
     "data": {
      "image/png": "[encoded data removed]",
      "text/plain": [
       "<Figure size 432x288 with 1 Axes>"
      ]
     },
     "metadata": {
      "needs_background": "light"
     },
     "output_type": "display_data"
    }
   ],
   "source": [
    "df['inflation'] = df['inflation'].str.replace(\" %\",\"\")\n",
    "df['inflation'] = df['inflation'].astype('float64')\n",
    "\n",
    "df.plot()"
   ]
  },
  {
   "cell_type": "markdown",
   "metadata": {},
   "source": [
    "In conclution when you don't have a direct access to a data from a website you can always do the scrapping method. There is a couple library that can do same task like `scrapy` that can build bot to automaticly crawl data, but we choose beautiful soup since it's more beginner friendly and a helpful utility that allows a programmer to get specific elements out of a webpage (for example, a list of images). \n",
    "\n",
    "After this you also can implement the scrapping to one function and put it at the flask webapp, which you can find the demo [here](https://github.com/t3981-h/LikesRatio) and you can go to inflation branch to see example that scrap a same page or you can visit [Pricemate](https://github.com/onlyphantom/pricemate). Which scrap tiket.com data to get train price list. I hope this short module help you to understand and can kickstart you to learn more about webscrapping using Beautifulsoup. Also feel free to contact us at mentor@algorit.ma if you have more question.\n",
    "\n",
    "Happy learning~"
   ]
  },
  {
   "cell_type": "code",
   "execution_count": null,
   "metadata": {},
   "outputs": [],
   "source": []
  },
  {
   "cell_type": "code",
   "execution_count": 13,
   "metadata": {},
   "outputs": [],
   "source": [
    "url_get = requests.get('https://monexnews.com/kurs-valuta-asing.htm?kurs=JPY&searchdatefrom=01-01-2019&searchdateto=31-12-2019')"
   ]
  },
  {
   "cell_type": "code",
   "execution_count": 14,
   "metadata": {},
   "outputs": [
    {
     "name": "stdout",
     "output_type": "stream",
     "text": [
      "<class 'bs4.BeautifulSoup'>\n"
     ]
    }
   ],
   "source": [
    "soup = BeautifulSoup(url_get.content,\"html.parser\")\n",
    "print(type(soup))"
   ]
  },
  {
   "cell_type": "code",
   "execution_count": 15,
   "metadata": {},
   "outputs": [
    {
     "name": "stdout",
     "output_type": "stream",
     "text": [
      "<!DOCTYPE html PUBLIC \"-//W3C//DTD XHTML 1.0 Transitional//EN\" \"http://www.w3.org/TR/xhtml1/DTD/xhtml1-transitional.dtd\">\n",
      "<html xmlns=\"http://www.w3.org/1999/xhtml\">\n",
      " <head>\n",
      "  <meta content=\"en,in\" http-equiv=\"Content-Language\"/>\n",
      "  <link href=\"https://monexnews.com/kurs-valuta-asing.php\" hreflang=\"en-ID\" rel=\"alternate\"/>\n",
      "  <base href=\"https://monexnews.com/\" target=\"_self\"/>\n",
      "  <title>\n",
      "   Kurs Yen Jepang | JPY | Harga Nilai Tukar Yen Hari Ini | Monexnews\n",
      "  </title>\n",
      "  <meta content=\"Kurs yen jepang JPY, nilai tukar rupiah terhadap harga yen hari ini berdasar kurs tengah BI, Bank Indonesia. \" name=\"description\"/>\n",
      "  <meta content=\"Kurs yen, jpy, nilai tukar yen, monexnews\" name=\"keywords\"/>\n",
      "  <meta content=\"favicon.jpg\" property=\"og:image\"/>\n",
      "  <meta content=\"Ultimaengine.com\" name=\"author\"/>\n",
      "  <meta content=\"follow, index\" name=\"robots\"/>\n",
      "  <meta content=\"7 days\" name=\"revisit-after\"/>\n",
      "  <meta content=\"width=device-width, initial-scale=1.0\" name=\"viewport\"/>\n",
      "  <meta content=\"M7NOlgqcEadhlLSiEssmvNI08vl1BowAztIyERgEgMQ\" name=\"google-\n"
     ]
    }
   ],
   "source": [
    "print(soup.prettify()[:1045])"
   ]
  },
  {
   "cell_type": "code",
   "execution_count": 11,
   "metadata": {},
   "outputs": [],
   "source": []
  },
  {
   "cell_type": "code",
   "execution_count": 16,
   "metadata": {},
   "outputs": [
    {
     "name": "stdout",
     "output_type": "stream",
     "text": [
      "table class=\"table\">\n",
      " <tr>\n",
      "  <td>\n",
      "   TANGGAL\n",
      "  </td>\n",
      "  <td>\n",
      "   ASK\n",
      "  </td>\n",
      "  <td>\n",
      "   BID\n",
      "  </td>\n",
      " </tr>\n",
      " <tr class=\"verySoftGreyBg\">\n",
      "  <td>\n",
      "   31 Desember 2019\n",
      "  </td>\n",
      "  <td>\n",
      "   128,62\n",
      "  </td>\n",
      "  <td>\n",
      "   127,32\n",
      "  </td>\n",
      " </tr>\n",
      " <tr>\n",
      "  <td>\n",
      "   30 Desember 2019\n",
      "  </td>\n",
      "  <td>\n",
      "   128,30\n",
      "  </td>\n",
      "  <td>\n",
      "   127,02\n",
      "  </td>\n",
      " </tr>\n",
      " <tr class=\"verySoftGreyBg\">\n",
      "  <td>\n",
      "   27 Desember 2019\n",
      "  </td>\n",
      "  <td>\n",
      "   128,11\n",
      "  </td>\n",
      "  <td>\n",
      "   126,83\n",
      "  </td>\n",
      " </tr>\n",
      " <tr>\n",
      "  <td>\n",
      "   26 Desember 2019\n",
      "  </td>\n",
      "  <td>\n",
      "   128,\n"
     ]
    }
   ],
   "source": [
    "table = soup.find('table', attrs={'class':'table'})\n",
    "print(table.prettify()[1:500])"
   ]
  },
  {
   "cell_type": "code",
   "execution_count": 17,
   "metadata": {},
   "outputs": [
    {
     "data": {
      "text/plain": [
       "[<tr>\n",
       " <td>TANGGAL</td>\n",
       " <td>ASK</td>\n",
       " <td>BID</td>\n",
       " </tr>,\n",
       " <tr class=\"verySoftGreyBg\">\n",
       " <td>31 Desember 2019</td>\n",
       " <td>128,62</td>\n",
       " <td>127,32</td>\n",
       " </tr>]"
      ]
     },
     "execution_count": 17,
     "metadata": {},
     "output_type": "execute_result"
    }
   ],
   "source": [
    "tr = table.find_all('tr')\n",
    "tr[:2] # just call 2 founded tr"
   ]
  },
  {
   "cell_type": "code",
   "execution_count": 24,
   "metadata": {},
   "outputs": [
    {
     "data": {
      "text/plain": [
       "[('September 2018', '128,62'),\n",
       " ('September 2018', '128,30'),\n",
       " ('September 2018', '128,11'),\n",
       " ('September 2018', '128,27'),\n",
       " ('September 2018', '128,39'),\n",
       " ('September 2018', '128,63'),\n",
       " ('September 2018', '128,24'),\n",
       " ('September 2018', '128,64'),\n",
       " ('September 2018', '128,62'),\n",
       " ('September 2018', '128,67'),\n",
       " ('September 2018', '128,30'),\n",
       " ('September 2018', '130,04'),\n",
       " ('September 2018', '129,65'),\n",
       " ('September 2018', '129,56'),\n",
       " ('September 2018', '129,76'),\n",
       " ('September 2018', '129,78'),\n",
       " ('September 2018', '130,10'),\n",
       " ('September 2018', '130,79'),\n",
       " ('September 2018', '130,15'),\n",
       " ('September 2018', '129,36'),\n",
       " ('September 2018', '129,44'),\n",
       " ('September 2018', '129,47'),\n",
       " ('September 2018', '129,84'),\n",
       " ('September 2018', '129,82'),\n",
       " ('September 2018', '130,20'),\n",
       " ('September 2018', '130,44'),\n",
       " ('September 2018', '130,73'),\n",
       " ('September 2018', '130,56'),\n",
       " ('September 2018', '130,34'),\n",
       " ('September 2018', '130,02'),\n",
       " ('September 2018', '130,23'),\n",
       " ('September 2018', '130,34'),\n",
       " ('September 2018', '129,86'),\n",
       " ('September 2018', '129,45'),\n",
       " ('September 2018', '129,37'),\n",
       " ('September 2018', '129,03'),\n",
       " ('September 2018', '129,71'),\n",
       " ('September 2018', '128,96'),\n",
       " ('September 2018', '129,67'),\n",
       " ('September 2018', '130,04'),\n",
       " ('September 2018', '130,88'),\n",
       " ('September 2018', '129,57'),\n",
       " ('September 2018', '129,67'),\n",
       " ('September 2018', '129,39'),\n",
       " ('September 2018', '129,57'),\n",
       " ('September 2018', '130,11'),\n",
       " ('September 2018', '129,52'),\n",
       " ('September 2018', '130,35'),\n",
       " ('September 2018', '130,06'),\n",
       " ('September 2018', '130,94'),\n",
       " ('September 2018', '130,91'),\n",
       " ('September 2018', '130,94'),\n",
       " ('September 2018', '131,20'),\n",
       " ('September 2018', '131,19'),\n",
       " ('September 2018', '131,11'),\n",
       " ('September 2018', '131,66'),\n",
       " ('September 2018', '132,29'),\n",
       " ('September 2018', '133,01'),\n",
       " ('September 2018', '132,68'),\n",
       " ('September 2018', '133,19'),\n",
       " ('September 2018', '133,05'),\n",
       " ('September 2018', '133,13'),\n",
       " ('September 2018', '132,55'),\n",
       " ('September 2018', '131,87'),\n",
       " ('September 2018', '132,03'),\n",
       " ('September 2018', '132,49'),\n",
       " ('September 2018', '132,20'),\n",
       " ('September 2018', '132,44'),\n",
       " ('September 2018', '131,73'),\n",
       " ('September 2018', '131,37'),\n",
       " ('September 2018', '131,14'),\n",
       " ('September 2018', '131,00'),\n",
       " ('September 2018', '130,75'),\n",
       " ('September 2018', '131,09'),\n",
       " ('September 2018', '130,78'),\n",
       " ('September 2018', '129,63'),\n",
       " ('September 2018', '130,75'),\n",
       " ('September 2018', '131,30'),\n",
       " ('September 2018', '131,34'),\n",
       " ('September 2018', '132,50'),\n",
       " ('September 2018', '132,73'),\n",
       " ('September 2018', '133,37'),\n",
       " ('September 2018', '134,85'),\n",
       " ('September 2018', '134,39'),\n",
       " ('September 2018', '134,30'),\n",
       " ('September 2018', '134,33'),\n",
       " ('September 2018', '135,32'),\n",
       " ('September 2018', '135,51'),\n",
       " ('September 2018', '135,32'),\n",
       " ('September 2018', '136,20'),\n",
       " ('September 2018', '134,45'),\n",
       " ('September 2018', '134,38'),\n",
       " ('September 2018', '134,63'),\n",
       " ('September 2018', '134,48'),\n",
       " ('September 2018', '134,29'),\n",
       " ('September 2018', '134,86'),\n",
       " ('September 2018', '135,65'),\n",
       " ('September 2018', '134,60'),\n",
       " ('September 2018', '136,19'),\n",
       " ('September 2018', '135,50'),\n",
       " ('September 2018', '134,60'),\n",
       " ('September 2018', '134,67'),\n",
       " ('September 2018', '135,34'),\n",
       " ('September 2018', '135,85'),\n",
       " ('September 2018', '134,95'),\n",
       " ('September 2018', '133,31'),\n",
       " ('September 2018', '129,80'),\n",
       " ('September 2018', '129,87'),\n",
       " ('September 2018', '129,68'),\n",
       " ('September 2018', '129,81'),\n",
       " ('September 2018', '129,56'),\n",
       " ('September 2018', '129,98'),\n",
       " ('September 2018', '130,15'),\n",
       " ('September 2018', '130,00'),\n",
       " ('September 2018', '129,98'),\n",
       " ('September 2018', '130,04'),\n",
       " ('September 2018', '130,45'),\n",
       " ('September 2018', '129,63'),\n",
       " ('September 2018', '129,62'),\n",
       " ('September 2018', '129,93'),\n",
       " ('September 2018', '130,67'),\n",
       " ('September 2018', '131,10'),\n",
       " ('September 2018', '130,61'),\n",
       " ('September 2018', '130,49'),\n",
       " ('September 2018', '131,13'),\n",
       " ('September 2018', '131,87'),\n",
       " ('September 2018', '131,60'),\n",
       " ('September 2018', '132,30'),\n",
       " ('September 2018', '131,09'),\n",
       " ('September 2018', '131,12'),\n",
       " ('September 2018', '132,07'),\n",
       " ('September 2018', '131,98'),\n",
       " ('September 2018', '132,56'),\n",
       " ('September 2018', '132,65'),\n",
       " ('September 2018', '132,61'),\n",
       " ('September 2018', '132,42'),\n",
       " ('September 2018', '132,78'),\n",
       " ('September 2018', '132,20'),\n",
       " ('September 2018', '133,01'),\n",
       " ('September 2018', '132,79'),\n",
       " ('September 2018', '132,73'),\n",
       " ('September 2018', '132,53'),\n",
       " ('September 2018', '131,88'),\n",
       " ('September 2018', '131,96'),\n",
       " ('September 2018', '131,84'),\n",
       " ('September 2018', '132,32'),\n",
       " ('September 2018', '132,48'),\n",
       " ('September 2018', '132,02'),\n",
       " ('September 2018', '131,86'),\n",
       " ('September 2018', '132,51'),\n",
       " ('September 2018', '132,34'),\n",
       " ('September 2018', '131,71'),\n",
       " ('September 2018', '131,94'),\n",
       " ('September 2018', '132,03'),\n",
       " ('September 2018', '132,30'),\n",
       " ('September 2018', '132,73'),\n",
       " ('September 2018', '132,51'),\n",
       " ('September 2018', '132,48'),\n",
       " ('September 2018', '131,54'),\n",
       " ('September 2018', '131,14'),\n",
       " ('September 2018', '131,14'),\n",
       " ('September 2018', '130,69'),\n",
       " ('September 2018', '129,91'),\n",
       " ('September 2018', '130,14'),\n",
       " ('September 2018', '128,83'),\n",
       " ('September 2018', '128,31'),\n",
       " ('September 2018', '128,02'),\n",
       " ('September 2018', '127,77'),\n",
       " ('September 2018', '127,70'),\n",
       " ('September 2018', '127,11'),\n",
       " ('September 2018', '126,78'),\n",
       " ('September 2018', '126,60'),\n",
       " ('September 2018', '126,20'),\n",
       " ('September 2018', '125,84'),\n",
       " ('September 2018', '126,30'),\n",
       " ('September 2018', '126,25'),\n",
       " ('September 2018', '127,35'),\n",
       " ('September 2018', '128,15'),\n",
       " ('September 2018', '128,00'),\n",
       " ('September 2018', '127,75'),\n",
       " ('September 2018', '127,60'),\n",
       " ('September 2018', '127,41'),\n",
       " ('September 2018', '127,92'),\n",
       " ('September 2018', '128,55'),\n",
       " ('September 2018', '128,68'),\n",
       " ('September 2018', '129,21'),\n",
       " ('September 2018', '130,04'),\n",
       " ('September 2018', '129,19'),\n",
       " ('September 2018', '129,38'),\n",
       " ('September 2018', '130,23'),\n",
       " ('September 2018', '128,50'),\n",
       " ('September 2018', '128,16'),\n",
       " ('September 2018', '128,14'),\n",
       " ('September 2018', '128,60'),\n",
       " ('September 2018', '128,26'),\n",
       " ('September 2018', '128,69'),\n",
       " ('September 2018', '128,55'),\n",
       " ('September 2018', '129,01'),\n",
       " ('September 2018', '128,56'),\n",
       " ('September 2018', '129,64'),\n",
       " ('September 2018', '128,19'),\n",
       " ('September 2018', '127,01'),\n",
       " ('September 2018', '127,10'),\n",
       " ('September 2018', '127,04'),\n",
       " ('September 2018', '126,99'),\n",
       " ('September 2018', '127,46'),\n",
       " ('September 2018', '127,29'),\n",
       " ('September 2018', '126,92'),\n",
       " ('September 2018', '127,16'),\n",
       " ('September 2018', '127,77'),\n",
       " ('September 2018', '127,57'),\n",
       " ('September 2018', '127,45'),\n",
       " ('September 2018', '128,42'),\n",
       " ('September 2018', '128,26'),\n",
       " ('September 2018', '128,61'),\n",
       " ('September 2018', '127,61'),\n",
       " ('September 2018', '127,47'),\n",
       " ('September 2018', '128,16'),\n",
       " ('September 2018', '128,07'),\n",
       " ('September 2018', '128,15'),\n",
       " ('September 2018', '127,92'),\n",
       " ('September 2018', '127,81'),\n",
       " ('September 2018', '128,24'),\n",
       " ('September 2018', '129,05'),\n",
       " ('September 2018', '129,92'),\n",
       " ('September 2018', '129,79'),\n",
       " ('September 2018', '129,74'),\n",
       " ('September 2018', '128,97'),\n",
       " ('September 2018', '129,68'),\n",
       " ('September 2018', '129,79'),\n",
       " ('September 2018', '130,05'),\n",
       " ('September 2018', '130,39'),\n",
       " ('September 2018', '130,31'),\n",
       " ('September 2018', '130,37'),\n",
       " ('September 2018', '130,61'),\n",
       " ('September 2018', '131,11'),\n",
       " ('September 2018', '130,56'),\n",
       " ('September 2018', '130,52'),\n",
       " ('September 2018', '130,62'),\n",
       " ('September 2018', '131,22'),\n",
       " ('September 2018', '130,31'),\n",
       " ('September 2018', '129,84'),\n",
       " ('September 2018', '130,86'),\n",
       " ('September 2018', '133,51'),\n",
       " ('September 2018', '135,44'),\n",
       " ('September 2018', '132,89')]"
      ]
     },
     "execution_count": 24,
     "metadata": {},
     "output_type": "execute_result"
    }
   ],
   "source": [
    "temp = [] #initiating a tuple\n",
    "\n",
    "for i in range(1, len(tr)):\n",
    "    row = table.find_all('tr')[i]\n",
    "    \n",
    "    #get tanggal\n",
    "    kurs_ask = row.find_all('td')[0].text\n",
    "    kurs_ask = period.strip() #for removing the excess whitespace\n",
    "    \n",
    "    #get kurs beli\n",
    "    inflation = row.find_all('td')[1].text\n",
    "    inflation = inflation.strip() #for removing the excess whitespace\n",
    "    \n",
    "    #get kurs jual\n",
    "    \n",
    "    #Gabungkan \n",
    "    temp.append((period,inflation)) \n",
    "    \n",
    "temp "
   ]
  },
  {
   "cell_type": "code",
   "execution_count": 19,
   "metadata": {},
   "outputs": [
    {
     "data": {
      "text/plain": [
       "[('September 2018', '132,89'),\n",
       " ('September 2018', '135,44'),\n",
       " ('September 2018', '133,51'),\n",
       " ('September 2018', '130,86'),\n",
       " ('September 2018', '129,84'),\n",
       " ('September 2018', '130,31'),\n",
       " ('September 2018', '131,22'),\n",
       " ('September 2018', '130,62'),\n",
       " ('September 2018', '130,52'),\n",
       " ('September 2018', '130,56'),\n",
       " ('September 2018', '131,11'),\n",
       " ('September 2018', '130,61'),\n",
       " ('September 2018', '130,37'),\n",
       " ('September 2018', '130,31'),\n",
       " ('September 2018', '130,39'),\n",
       " ('September 2018', '130,05'),\n",
       " ('September 2018', '129,79'),\n",
       " ('September 2018', '129,68'),\n",
       " ('September 2018', '128,97'),\n",
       " ('September 2018', '129,74'),\n",
       " ('September 2018', '129,79'),\n",
       " ('September 2018', '129,92'),\n",
       " ('September 2018', '129,05'),\n",
       " ('September 2018', '128,24'),\n",
       " ('September 2018', '127,81'),\n",
       " ('September 2018', '127,92'),\n",
       " ('September 2018', '128,15'),\n",
       " ('September 2018', '128,07'),\n",
       " ('September 2018', '128,16'),\n",
       " ('September 2018', '127,47'),\n",
       " ('September 2018', '127,61'),\n",
       " ('September 2018', '128,61'),\n",
       " ('September 2018', '128,26'),\n",
       " ('September 2018', '128,42'),\n",
       " ('September 2018', '127,45'),\n",
       " ('September 2018', '127,57'),\n",
       " ('September 2018', '127,77'),\n",
       " ('September 2018', '127,16'),\n",
       " ('September 2018', '126,92'),\n",
       " ('September 2018', '127,29'),\n",
       " ('September 2018', '127,46'),\n",
       " ('September 2018', '126,99'),\n",
       " ('September 2018', '127,04'),\n",
       " ('September 2018', '127,10'),\n",
       " ('September 2018', '127,01'),\n",
       " ('September 2018', '128,19'),\n",
       " ('September 2018', '129,64'),\n",
       " ('September 2018', '128,56'),\n",
       " ('September 2018', '129,01'),\n",
       " ('September 2018', '128,55'),\n",
       " ('September 2018', '128,69'),\n",
       " ('September 2018', '128,26'),\n",
       " ('September 2018', '128,60'),\n",
       " ('September 2018', '128,14'),\n",
       " ('September 2018', '128,16'),\n",
       " ('September 2018', '128,50'),\n",
       " ('September 2018', '130,23'),\n",
       " ('September 2018', '129,38'),\n",
       " ('September 2018', '129,19'),\n",
       " ('September 2018', '130,04'),\n",
       " ('September 2018', '129,21'),\n",
       " ('September 2018', '128,68'),\n",
       " ('September 2018', '128,55'),\n",
       " ('September 2018', '127,92'),\n",
       " ('September 2018', '127,41'),\n",
       " ('September 2018', '127,60'),\n",
       " ('September 2018', '127,75'),\n",
       " ('September 2018', '128,00'),\n",
       " ('September 2018', '128,15'),\n",
       " ('September 2018', '127,35'),\n",
       " ('September 2018', '126,25'),\n",
       " ('September 2018', '126,30'),\n",
       " ('September 2018', '125,84'),\n",
       " ('September 2018', '126,20'),\n",
       " ('September 2018', '126,60'),\n",
       " ('September 2018', '126,78'),\n",
       " ('September 2018', '127,11'),\n",
       " ('September 2018', '127,70'),\n",
       " ('September 2018', '127,77'),\n",
       " ('September 2018', '128,02'),\n",
       " ('September 2018', '128,31'),\n",
       " ('September 2018', '128,83'),\n",
       " ('September 2018', '130,14'),\n",
       " ('September 2018', '129,91'),\n",
       " ('September 2018', '130,69'),\n",
       " ('September 2018', '131,14'),\n",
       " ('September 2018', '131,14'),\n",
       " ('September 2018', '131,54'),\n",
       " ('September 2018', '132,48'),\n",
       " ('September 2018', '132,51'),\n",
       " ('September 2018', '132,73'),\n",
       " ('September 2018', '132,30'),\n",
       " ('September 2018', '132,03'),\n",
       " ('September 2018', '131,94'),\n",
       " ('September 2018', '131,71'),\n",
       " ('September 2018', '132,34'),\n",
       " ('September 2018', '132,51'),\n",
       " ('September 2018', '131,86'),\n",
       " ('September 2018', '132,02'),\n",
       " ('September 2018', '132,48'),\n",
       " ('September 2018', '132,32'),\n",
       " ('September 2018', '131,84'),\n",
       " ('September 2018', '131,96'),\n",
       " ('September 2018', '131,88'),\n",
       " ('September 2018', '132,53'),\n",
       " ('September 2018', '132,73'),\n",
       " ('September 2018', '132,79'),\n",
       " ('September 2018', '133,01'),\n",
       " ('September 2018', '132,20'),\n",
       " ('September 2018', '132,78'),\n",
       " ('September 2018', '132,42'),\n",
       " ('September 2018', '132,61'),\n",
       " ('September 2018', '132,65'),\n",
       " ('September 2018', '132,56'),\n",
       " ('September 2018', '131,98'),\n",
       " ('September 2018', '132,07'),\n",
       " ('September 2018', '131,12'),\n",
       " ('September 2018', '131,09'),\n",
       " ('September 2018', '132,30'),\n",
       " ('September 2018', '131,60'),\n",
       " ('September 2018', '131,87'),\n",
       " ('September 2018', '131,13'),\n",
       " ('September 2018', '130,49'),\n",
       " ('September 2018', '130,61'),\n",
       " ('September 2018', '131,10'),\n",
       " ('September 2018', '130,67'),\n",
       " ('September 2018', '129,93'),\n",
       " ('September 2018', '129,62'),\n",
       " ('September 2018', '129,63'),\n",
       " ('September 2018', '130,45'),\n",
       " ('September 2018', '130,04'),\n",
       " ('September 2018', '129,98'),\n",
       " ('September 2018', '130,00'),\n",
       " ('September 2018', '130,15'),\n",
       " ('September 2018', '129,98'),\n",
       " ('September 2018', '129,56'),\n",
       " ('September 2018', '129,81'),\n",
       " ('September 2018', '129,68'),\n",
       " ('September 2018', '129,87'),\n",
       " ('September 2018', '129,80'),\n",
       " ('September 2018', '133,31'),\n",
       " ('September 2018', '134,95'),\n",
       " ('September 2018', '135,85'),\n",
       " ('September 2018', '135,34'),\n",
       " ('September 2018', '134,67'),\n",
       " ('September 2018', '134,60'),\n",
       " ('September 2018', '135,50'),\n",
       " ('September 2018', '136,19'),\n",
       " ('September 2018', '134,60'),\n",
       " ('September 2018', '135,65'),\n",
       " ('September 2018', '134,86'),\n",
       " ('September 2018', '134,29'),\n",
       " ('September 2018', '134,48'),\n",
       " ('September 2018', '134,63'),\n",
       " ('September 2018', '134,38'),\n",
       " ('September 2018', '134,45'),\n",
       " ('September 2018', '136,20'),\n",
       " ('September 2018', '135,32'),\n",
       " ('September 2018', '135,51'),\n",
       " ('September 2018', '135,32'),\n",
       " ('September 2018', '134,33'),\n",
       " ('September 2018', '134,30'),\n",
       " ('September 2018', '134,39'),\n",
       " ('September 2018', '134,85'),\n",
       " ('September 2018', '133,37'),\n",
       " ('September 2018', '132,73'),\n",
       " ('September 2018', '132,50'),\n",
       " ('September 2018', '131,34'),\n",
       " ('September 2018', '131,30'),\n",
       " ('September 2018', '130,75'),\n",
       " ('September 2018', '129,63'),\n",
       " ('September 2018', '130,78'),\n",
       " ('September 2018', '131,09'),\n",
       " ('September 2018', '130,75'),\n",
       " ('September 2018', '131,00'),\n",
       " ('September 2018', '131,14'),\n",
       " ('September 2018', '131,37'),\n",
       " ('September 2018', '131,73'),\n",
       " ('September 2018', '132,44'),\n",
       " ('September 2018', '132,20'),\n",
       " ('September 2018', '132,49'),\n",
       " ('September 2018', '132,03'),\n",
       " ('September 2018', '131,87'),\n",
       " ('September 2018', '132,55'),\n",
       " ('September 2018', '133,13'),\n",
       " ('September 2018', '133,05'),\n",
       " ('September 2018', '133,19'),\n",
       " ('September 2018', '132,68'),\n",
       " ('September 2018', '133,01'),\n",
       " ('September 2018', '132,29'),\n",
       " ('September 2018', '131,66'),\n",
       " ('September 2018', '131,11'),\n",
       " ('September 2018', '131,19'),\n",
       " ('September 2018', '131,20'),\n",
       " ('September 2018', '130,94'),\n",
       " ('September 2018', '130,91'),\n",
       " ('September 2018', '130,94'),\n",
       " ('September 2018', '130,06'),\n",
       " ('September 2018', '130,35'),\n",
       " ('September 2018', '129,52'),\n",
       " ('September 2018', '130,11'),\n",
       " ('September 2018', '129,57'),\n",
       " ('September 2018', '129,39'),\n",
       " ('September 2018', '129,67'),\n",
       " ('September 2018', '129,57'),\n",
       " ('September 2018', '130,88'),\n",
       " ('September 2018', '130,04'),\n",
       " ('September 2018', '129,67'),\n",
       " ('September 2018', '128,96'),\n",
       " ('September 2018', '129,71'),\n",
       " ('September 2018', '129,03'),\n",
       " ('September 2018', '129,37'),\n",
       " ('September 2018', '129,45'),\n",
       " ('September 2018', '129,86'),\n",
       " ('September 2018', '130,34'),\n",
       " ('September 2018', '130,23'),\n",
       " ('September 2018', '130,02'),\n",
       " ('September 2018', '130,34'),\n",
       " ('September 2018', '130,56'),\n",
       " ('September 2018', '130,73'),\n",
       " ('September 2018', '130,44'),\n",
       " ('September 2018', '130,20'),\n",
       " ('September 2018', '129,82'),\n",
       " ('September 2018', '129,84'),\n",
       " ('September 2018', '129,47'),\n",
       " ('September 2018', '129,44'),\n",
       " ('September 2018', '129,36'),\n",
       " ('September 2018', '130,15'),\n",
       " ('September 2018', '130,79'),\n",
       " ('September 2018', '130,10'),\n",
       " ('September 2018', '129,78'),\n",
       " ('September 2018', '129,76'),\n",
       " ('September 2018', '129,56'),\n",
       " ('September 2018', '129,65'),\n",
       " ('September 2018', '130,04'),\n",
       " ('September 2018', '128,30'),\n",
       " ('September 2018', '128,67'),\n",
       " ('September 2018', '128,62'),\n",
       " ('September 2018', '128,64'),\n",
       " ('September 2018', '128,24'),\n",
       " ('September 2018', '128,63'),\n",
       " ('September 2018', '128,39'),\n",
       " ('September 2018', '128,27'),\n",
       " ('September 2018', '128,11'),\n",
       " ('September 2018', '128,30'),\n",
       " ('September 2018', '128,62')]"
      ]
     },
     "execution_count": 19,
     "metadata": {},
     "output_type": "execute_result"
    }
   ],
   "source": [
    "temp = temp[::-1]\n",
    "temp"
   ]
  },
  {
   "cell_type": "code",
   "execution_count": null,
   "metadata": {},
   "outputs": [],
   "source": [
    "import pandas as pd\n",
    "\n",
    "df = pd.DataFrame(temp, columns = ('period','inflation'))\n",
    "df.head()"
   ]
  },
  {
   "cell_type": "code",
   "execution_count": null,
   "metadata": {},
   "outputs": [],
   "source": []
  }
 ],
 "metadata": {
  "kernelspec": {
   "display_name": "Python 3",
   "language": "python",
   "name": "python3"
  },
  "language_info": {
   "codemirror_mode": {
    "name": "ipython",
    "version": 3
   },
   "file_extension": ".py",
   "mimetype": "text/x-python",
   "name": "python",
   "nbconvert_exporter": "python",
   "pygments_lexer": "ipython3",
   "version": "3.7.6"
  }
 },
 "nbformat": 4,
 "nbformat_minor": 2
}
